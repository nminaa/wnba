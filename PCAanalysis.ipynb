{
 "cells": [
  {
   "cell_type": "code",
   "execution_count": 151,
   "metadata": {},
   "outputs": [],
   "source": [
    "\"\"\"\n",
    "Author: Madison Sanchez-Forman\n",
    "Version: 11.16.24\n",
    "Description: This scipty performs PCA analysis to compare each player by year from our scraped dataset\n",
    "\"\"\"\n",
    "#******* Import Statements ******#\n",
    "from sklearn.preprocessing import StandardScaler\n",
    "from sklearn.decomposition import PCA\n",
    "import numpy as np\n",
    "import pandas as pd\n",
    "import matplotlib.pyplot as plt\n",
    "\n",
    "#******* Local Variables ******#\n",
    "write_csv, show_graphs = False, True #switch to true if you want to save outputs as new files, other controls if graphs are printed after PCA\n",
    "df_path = \"WNBA - Players - General.csv\" #path to orginal df"
   ]
  },
  {
   "cell_type": "code",
   "execution_count": 152,
   "metadata": {},
   "outputs": [
    {
     "ename": "TypeError",
     "evalue": "pca_per_year() missing 1 required positional argument: 'show_graphs'",
     "output_type": "error",
     "traceback": [
      "\u001b[0;31m---------------------------------------------------------------------------\u001b[0m",
      "\u001b[0;31mTypeError\u001b[0m                                 Traceback (most recent call last)",
      "\u001b[1;32m/Users/madiforman/Desktop/WNBA/PCAanalysis.ipynb Cell 2\u001b[0m line \u001b[0;36m6\n\u001b[1;32m     <a href='vscode-notebook-cell:/Users/madiforman/Desktop/WNBA/PCAanalysis.ipynb#X12sZmlsZQ%3D%3D?line=57'>58</a>\u001b[0m             pca_out\u001b[39m.\u001b[39mto_csv(\u001b[39mf\u001b[39m\u001b[39m\"\u001b[39m\u001b[39m/Users/madiforman/Desktop/WNBA/pca_out/PCA_out\u001b[39m\u001b[39m{\u001b[39;00mi\u001b[39m}\u001b[39;00m\u001b[39m.csv\u001b[39m\u001b[39m\"\u001b[39m) \u001b[39m#write out results\u001b[39;00m\n\u001b[1;32m     <a href='vscode-notebook-cell:/Users/madiforman/Desktop/WNBA/PCAanalysis.ipynb#X12sZmlsZQ%3D%3D?line=58'>59</a>\u001b[0m             principal_components\u001b[39m.\u001b[39mto_csv(\u001b[39mf\u001b[39m\u001b[39m\"\u001b[39m\u001b[39m/Users/madiforman/Desktop/WNBA/loadings/principal_component_loadings\u001b[39m\u001b[39m{\u001b[39;00mi\u001b[39m}\u001b[39;00m\u001b[39m.csv\u001b[39m\u001b[39m\"\u001b[39m)\n\u001b[0;32m---> <a href='vscode-notebook-cell:/Users/madiforman/Desktop/WNBA/PCAanalysis.ipynb#X12sZmlsZQ%3D%3D?line=59'>60</a>\u001b[0m main()\n",
      "\u001b[1;32m/Users/madiforman/Desktop/WNBA/PCAanalysis.ipynb Cell 2\u001b[0m line \u001b[0;36m5\n\u001b[1;32m     <a href='vscode-notebook-cell:/Users/madiforman/Desktop/WNBA/PCAanalysis.ipynb#X12sZmlsZQ%3D%3D?line=53'>54</a>\u001b[0m player_data \u001b[39m=\u001b[39m pd\u001b[39m.\u001b[39mread_csv(df_path)\n\u001b[1;32m     <a href='vscode-notebook-cell:/Users/madiforman/Desktop/WNBA/PCAanalysis.ipynb#X12sZmlsZQ%3D%3D?line=54'>55</a>\u001b[0m \u001b[39mfor\u001b[39;00m i \u001b[39min\u001b[39;00m \u001b[39mrange\u001b[39m(\u001b[39m2014\u001b[39m, \u001b[39m2025\u001b[39m): \u001b[39m#loop over all of our years\u001b[39;00m\n\u001b[0;32m---> <a href='vscode-notebook-cell:/Users/madiforman/Desktop/WNBA/PCAanalysis.ipynb#X12sZmlsZQ%3D%3D?line=55'>56</a>\u001b[0m     pca_out, principal_components \u001b[39m=\u001b[39m pca_per_year(i, player_data)\n\u001b[1;32m     <a href='vscode-notebook-cell:/Users/madiforman/Desktop/WNBA/PCAanalysis.ipynb#X12sZmlsZQ%3D%3D?line=56'>57</a>\u001b[0m     \u001b[39mif\u001b[39;00m write_csv:\n\u001b[1;32m     <a href='vscode-notebook-cell:/Users/madiforman/Desktop/WNBA/PCAanalysis.ipynb#X12sZmlsZQ%3D%3D?line=57'>58</a>\u001b[0m         pca_out\u001b[39m.\u001b[39mto_csv(\u001b[39mf\u001b[39m\u001b[39m\"\u001b[39m\u001b[39m/Users/madiforman/Desktop/WNBA/pca_out/PCA_out\u001b[39m\u001b[39m{\u001b[39;00mi\u001b[39m}\u001b[39;00m\u001b[39m.csv\u001b[39m\u001b[39m\"\u001b[39m) \u001b[39m#write out results\u001b[39;00m\n",
      "\u001b[0;31mTypeError\u001b[0m: pca_per_year() missing 1 required positional argument: 'show_graphs'"
     ]
    }
   ],
   "source": [
    "#******* Function Definitions ******#\n",
    "def pca_per_year(year, df, show_graphs):\n",
    "    \"\"\"\n",
    "    Perfoms PCA analysis using Sklearn's PCA class. \n",
    "    Params:\n",
    "        year: (int) chosen year  \n",
    "        df: (DataFrame) loaded df from main \n",
    "        show_graphs: (boolean) T/F to show per year graph\n",
    "    Returns:\n",
    "        pca_out: shows how each player's compared to other players\n",
    "        pca_components: shows how influential each individual feature was in contributing to the overall variance\n",
    "    \"\"\"\n",
    "    pca_df = df[df['Year'] == year]\n",
    "    names = pca_df['PLAYER'] #storing names for final output df\n",
    "    pca_df = pca_df.drop(['PLAYER', 'TEAM', 'Year', 'Unnamed: 0', 'W', 'L'], axis=1) #HAVE TO DROP NOMINAL COLUMNS FROM DF\n",
    "\n",
    "    n = len(pca_df.columns) #number of principal components = number of original features\n",
    "    dat = StandardScaler().fit_transform(pca_df) \n",
    "    pca = PCA(n_components=n) #performing pca \n",
    "    pca.fit(dat) \n",
    "\n",
    "    x_vector, y_vector = pca.components_[0], pca.components_[1] #x, y are vectors of first two principal components\n",
    "    xs, ys = pca.transform(dat)[:, 0], pca.transform(dat)[:, 1]\n",
    "\n",
    "    if show_graphs: #for visualizing, just plotting principal vectors and players on graph\n",
    "        plt.figure(figsize=(15,10))\n",
    "        for i in range(len(x_vector)):\n",
    "            plt.arrow(0, 0,\n",
    "                    x_vector[i] * max(xs),\n",
    "                    y_vector[i] * max(ys),\n",
    "                    color='r',\n",
    "                    width=0.005,\n",
    "                    head_width=0.0025)\n",
    "            plt.text(x_vector[i] * max(xs) * 1,\n",
    "                    y_vector[i] * max(ys) * 1,\n",
    "                    list(pca_df.columns.values)[i],\n",
    "                    color='r')\n",
    "            \n",
    "        for i in range(len(xs)):\n",
    "            plt.plot(xs[i],\n",
    "                    ys[i],\n",
    "                    'bo',\n",
    "                    alpha=0.5)\n",
    "        plt.show()\n",
    "\n",
    "    pca_out = pd.DataFrame({'Player': names,'Component 1': xs, 'Component 2' :ys}) #output player principal components\n",
    "    pca_components = pd.DataFrame({'Variables':pca_df.columns.values,'Loadings X': x_vector, 'Loadings Y': y_vector}) #output loadings per feature \n",
    "    return pca_out, pca_components\n",
    "\n",
    "def main():\n",
    "    \"\"\"\n",
    "    Main function\n",
    "    \"\"\"\n",
    "    player_data = pd.read_csv(df_path)\n",
    "    for i in range(2014, 2025): #loop over all of our years\n",
    "        pca_out, principal_components = pca_per_year(i, player_data, show_graphs)\n",
    "        if write_csv:\n",
    "            pca_out.to_csv(f\"/Users/madiforman/Desktop/WNBA/pca_out/PCA_out{i}.csv\") #write out results\n",
    "            principal_components.to_csv(f\"/Users/madiforman/Desktop/WNBA/loadings/principal_component_loadings{i}.csv\")\n",
    "main()"
   ]
  }
 ],
 "metadata": {
  "kernelspec": {
   "display_name": "WNBA",
   "language": "python",
   "name": "python3"
  },
  "language_info": {
   "codemirror_mode": {
    "name": "ipython",
    "version": 3
   },
   "file_extension": ".py",
   "mimetype": "text/x-python",
   "name": "python",
   "nbconvert_exporter": "python",
   "pygments_lexer": "ipython3",
   "version": "3.12.2"
  },
  "orig_nbformat": 4
 },
 "nbformat": 4,
 "nbformat_minor": 2
}
