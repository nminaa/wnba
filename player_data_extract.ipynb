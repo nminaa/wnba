{
 "cells": [
  {
   "cell_type": "markdown",
   "metadata": {},
   "source": [
    "# Extract Player Data\n",
    "This notebook queries the WNBA API for relevant player data. Then we format the data and output it to CSV.\n",
    "\n",
    "Authors: Annie Staker and Mina Nielsen. Uses code from Madison Sanchez-Forman."
   ]
  },
  {
   "cell_type": "code",
   "execution_count": 13,
   "metadata": {},
   "outputs": [],
   "source": [
    "import requests\n",
    "import pandas as pd"
   ]
  },
  {
   "cell_type": "code",
   "execution_count": 32,
   "metadata": {},
   "outputs": [
    {
     "data": {
      "text/html": [
       "<div>\n",
       "<style scoped>\n",
       "    .dataframe tbody tr th:only-of-type {\n",
       "        vertical-align: middle;\n",
       "    }\n",
       "\n",
       "    .dataframe tbody tr th {\n",
       "        vertical-align: top;\n",
       "    }\n",
       "\n",
       "    .dataframe thead th {\n",
       "        text-align: right;\n",
       "    }\n",
       "</style>\n",
       "<table border=\"1\" class=\"dataframe\">\n",
       "  <thead>\n",
       "    <tr style=\"text-align: right;\">\n",
       "      <th></th>\n",
       "      <th>teamId</th>\n",
       "      <th>displayName</th>\n",
       "      <th>shortDisplayName</th>\n",
       "      <th>abbreviation</th>\n",
       "      <th>slug</th>\n",
       "      <th>link</th>\n",
       "    </tr>\n",
       "  </thead>\n",
       "  <tbody>\n",
       "    <tr>\n",
       "      <th>0</th>\n",
       "      <td>20</td>\n",
       "      <td>Atlanta Dream</td>\n",
       "      <td>Dream</td>\n",
       "      <td>ATL</td>\n",
       "      <td>atlanta-dream</td>\n",
       "      <td>https://www.espn.com/wnba/team/_/name/atl/atla...</td>\n",
       "    </tr>\n",
       "    <tr>\n",
       "      <th>1</th>\n",
       "      <td>19</td>\n",
       "      <td>Chicago Sky</td>\n",
       "      <td>Sky</td>\n",
       "      <td>CHI</td>\n",
       "      <td>chicago-sky</td>\n",
       "      <td>https://www.espn.com/wnba/team/_/name/chi/chic...</td>\n",
       "    </tr>\n",
       "    <tr>\n",
       "      <th>2</th>\n",
       "      <td>18</td>\n",
       "      <td>Connecticut Sun</td>\n",
       "      <td>Sun</td>\n",
       "      <td>CONN</td>\n",
       "      <td>connecticut-sun</td>\n",
       "      <td>https://www.espn.com/wnba/team/_/name/conn/con...</td>\n",
       "    </tr>\n",
       "    <tr>\n",
       "      <th>3</th>\n",
       "      <td>3</td>\n",
       "      <td>Dallas Wings</td>\n",
       "      <td>Wings</td>\n",
       "      <td>DAL</td>\n",
       "      <td>dallas-wings</td>\n",
       "      <td>https://www.espn.com/wnba/team/_/name/dal/dall...</td>\n",
       "    </tr>\n",
       "    <tr>\n",
       "      <th>4</th>\n",
       "      <td>129689</td>\n",
       "      <td>Golden State Valkyries</td>\n",
       "      <td>Valkyries</td>\n",
       "      <td>GSV</td>\n",
       "      <td>golden-state-valkyries</td>\n",
       "      <td>https://www.espn.com/wnba/team/_/name/gsv/gold...</td>\n",
       "    </tr>\n",
       "  </tbody>\n",
       "</table>\n",
       "</div>"
      ],
      "text/plain": [
       "   teamId             displayName shortDisplayName abbreviation  \\\n",
       "0      20           Atlanta Dream            Dream          ATL   \n",
       "1      19             Chicago Sky              Sky          CHI   \n",
       "2      18         Connecticut Sun              Sun         CONN   \n",
       "3       3            Dallas Wings            Wings          DAL   \n",
       "4  129689  Golden State Valkyries        Valkyries          GSV   \n",
       "\n",
       "                     slug                                               link  \n",
       "0           atlanta-dream  https://www.espn.com/wnba/team/_/name/atl/atla...  \n",
       "1             chicago-sky  https://www.espn.com/wnba/team/_/name/chi/chic...  \n",
       "2         connecticut-sun  https://www.espn.com/wnba/team/_/name/conn/con...  \n",
       "3            dallas-wings  https://www.espn.com/wnba/team/_/name/dal/dall...  \n",
       "4  golden-state-valkyries  https://www.espn.com/wnba/team/_/name/gsv/gold...  "
      ]
     },
     "execution_count": 32,
     "metadata": {},
     "output_type": "execute_result"
    }
   ],
   "source": [
    "\"\"\"\n",
    "Author: Madison Sanchez-Forman\n",
    "Version: 11.6.24\n",
    "Description: This notebook will make requests to an API that contains WNBA data. \n",
    "Field Ideas: \n",
    "\tlocation, team name, roster, ranking(through time), \n",
    "    roster (just this years), game schedule, draft data (through time), play by play\n",
    "\"\"\"\n",
    "url = \"https://wnba-api.p.rapidapi.com/team/id\"\n",
    "\n",
    "querystring = {\"limit\":\"70\"}\n",
    "\n",
    "headers = {\n",
    "\t\"x-rapidapi-key\": \"5d5e2858cemsh4b2fb0d90e07d40p1e1f67jsnac0328984085\",\n",
    "\t\"x-rapidapi-host\": \"wnba-api.p.rapidapi.com\"\n",
    "}\n",
    "\n",
    "response = requests.get(url, headers=headers, params=querystring)\n",
    "\n",
    "team_ids_df = pd.DataFrame(response.json())\n",
    "\n",
    "team_ids_df.head()"
   ]
  },
  {
   "cell_type": "code",
   "execution_count": 33,
   "metadata": {},
   "outputs": [
    {
     "ename": "KeyError",
     "evalue": "'data'",
     "output_type": "error",
     "traceback": [
      "\u001b[1;31m---------------------------------------------------------------------------\u001b[0m",
      "\u001b[1;31mKeyError\u001b[0m                                  Traceback (most recent call last)",
      "Cell \u001b[1;32mIn[33], line 16\u001b[0m\n\u001b[0;32m      9\u001b[0m headers \u001b[38;5;241m=\u001b[39m {\n\u001b[0;32m     10\u001b[0m     \u001b[38;5;124m\"\u001b[39m\u001b[38;5;124mx-rapidapi-key\u001b[39m\u001b[38;5;124m\"\u001b[39m: \u001b[38;5;124m\"\u001b[39m\u001b[38;5;124m5d5e2858cemsh4b2fb0d90e07d40p1e1f67jsnac0328984085\u001b[39m\u001b[38;5;124m\"\u001b[39m,\n\u001b[0;32m     11\u001b[0m     \u001b[38;5;124m\"\u001b[39m\u001b[38;5;124mx-rapidapi-host\u001b[39m\u001b[38;5;124m\"\u001b[39m: \u001b[38;5;124m\"\u001b[39m\u001b[38;5;124mwnba-api.p.rapidapi.com\u001b[39m\u001b[38;5;124m\"\u001b[39m\n\u001b[0;32m     12\u001b[0m }\n\u001b[0;32m     14\u001b[0m response \u001b[38;5;241m=\u001b[39m requests\u001b[38;5;241m.\u001b[39mget(url, headers\u001b[38;5;241m=\u001b[39mheaders, params\u001b[38;5;241m=\u001b[39mquerystring)\n\u001b[1;32m---> 16\u001b[0m team_players \u001b[38;5;241m=\u001b[39m \u001b[43mresponse\u001b[49m\u001b[38;5;241;43m.\u001b[39;49m\u001b[43mjson\u001b[49m\u001b[43m(\u001b[49m\u001b[43m)\u001b[49m\u001b[43m[\u001b[49m\u001b[38;5;124;43m'\u001b[39;49m\u001b[38;5;124;43mdata\u001b[39;49m\u001b[38;5;124;43m'\u001b[39;49m\u001b[43m]\u001b[49m \u001b[38;5;66;03m# this is the list dictionaries\u001b[39;00m\n\u001b[0;32m     18\u001b[0m \u001b[38;5;28;01mfor\u001b[39;00m team_player \u001b[38;5;129;01min\u001b[39;00m team_players:\n\u001b[0;32m     19\u001b[0m     team_player[\u001b[38;5;124m'\u001b[39m\u001b[38;5;124mteamId\u001b[39m\u001b[38;5;124m'\u001b[39m] \u001b[38;5;241m=\u001b[39m team_id \u001b[38;5;66;03m# add a new key called teamId to each player dictionary - contains the id of their team\u001b[39;00m\n",
      "\u001b[1;31mKeyError\u001b[0m: 'data'"
     ]
    }
   ],
   "source": [
    "all_players = [] # a list of dictionaries\n",
    "team_ids = team_ids_df['teamId'].to_list()\n",
    "\n",
    "for team_id in team_ids:\n",
    "    url = \"https://wnba-api.p.rapidapi.com/players/id\"\n",
    "\n",
    "    querystring = {\"teamId\":team_id}\n",
    "\n",
    "    headers = {\n",
    "        \"x-rapidapi-key\": \"5d5e2858cemsh4b2fb0d90e07d40p1e1f67jsnac0328984085\",\n",
    "        \"x-rapidapi-host\": \"wnba-api.p.rapidapi.com\"\n",
    "    }\n",
    "\n",
    "    response = requests.get(url, headers=headers, params=querystring)\n",
    "\n",
    "    team_players = response.json()['data'] # this is the list dictionaries\n",
    "\n",
    "    for team_player in team_players:\n",
    "        team_player['teamId'] = team_id # add a new key called teamId to each player dictionary - contains the id of their team\n",
    "\n",
    "    all_players.extend(team_players)\n",
    "\n",
    "players_df = pd.DataFrame(all_players)"
   ]
  },
  {
   "cell_type": "code",
   "execution_count": 35,
   "metadata": {},
   "outputs": [
    {
     "data": {
      "text/plain": [
       "{'message': 'You have exceeded the rate limit per minute for your plan, BASIC, by the API provider'}"
      ]
     },
     "execution_count": 35,
     "metadata": {},
     "output_type": "execute_result"
    }
   ],
   "source": [
    "response.json()"
   ]
  }
 ],
 "metadata": {
  "kernelspec": {
   "display_name": "venv",
   "language": "python",
   "name": "python3"
  },
  "language_info": {
   "codemirror_mode": {
    "name": "ipython",
    "version": 3
   },
   "file_extension": ".py",
   "mimetype": "text/x-python",
   "name": "python",
   "nbconvert_exporter": "python",
   "pygments_lexer": "ipython3",
   "version": "3.12.6"
  }
 },
 "nbformat": 4,
 "nbformat_minor": 2
}
