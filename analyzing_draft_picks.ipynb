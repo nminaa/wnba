{
 "cells": [
  {
   "cell_type": "markdown",
   "metadata": {},
   "source": [
    "# Analyzing draft picks\n",
    "### Author: Annie Staker\n",
    "### Date: November 16, 2024\n",
    "Goal: to identify relationships between draft pick acquisitions and team performance over the course of a few years.\n",
    "\n",
    "Method: to create visualizations that encode the variables year, ranking, and draft pick to identify the most effective. "
   ]
  },
  {
   "cell_type": "markdown",
   "metadata": {},
   "source": [
    "### Import libraries"
   ]
  },
  {
   "cell_type": "code",
   "execution_count": 1,
   "metadata": {},
   "outputs": [],
   "source": [
    "import os\n",
    "import pandas as pd\n",
    "import numpy as np\n",
    "import plotly.express as px\n",
    "import plotly.graph_objects as go\n",
    "import math"
   ]
  },
  {
   "cell_type": "markdown",
   "metadata": {},
   "source": [
    "### Load spreadsheets of data"
   ]
  },
  {
   "cell_type": "code",
   "execution_count": 2,
   "metadata": {},
   "outputs": [
    {
     "data": {
      "text/html": [
       "<div>\n",
       "<style scoped>\n",
       "    .dataframe tbody tr th:only-of-type {\n",
       "        vertical-align: middle;\n",
       "    }\n",
       "\n",
       "    .dataframe tbody tr th {\n",
       "        vertical-align: top;\n",
       "    }\n",
       "\n",
       "    .dataframe thead th {\n",
       "        text-align: right;\n",
       "    }\n",
       "</style>\n",
       "<table border=\"1\" class=\"dataframe\">\n",
       "  <thead>\n",
       "    <tr style=\"text-align: right;\">\n",
       "      <th></th>\n",
       "      <th>Irrelevant #s</th>\n",
       "      <th>TEAM</th>\n",
       "      <th>GP</th>\n",
       "      <th>W</th>\n",
       "      <th>L</th>\n",
       "      <th>WIN%</th>\n",
       "      <th>MIN</th>\n",
       "      <th>PTS</th>\n",
       "      <th>FGM</th>\n",
       "      <th>FGA</th>\n",
       "      <th>...</th>\n",
       "      <th>REB</th>\n",
       "      <th>AST</th>\n",
       "      <th>TOV</th>\n",
       "      <th>STL</th>\n",
       "      <th>BLK</th>\n",
       "      <th>BLKA</th>\n",
       "      <th>PF</th>\n",
       "      <th>PFD</th>\n",
       "      <th>+/-</th>\n",
       "      <th>Year</th>\n",
       "    </tr>\n",
       "  </thead>\n",
       "  <tbody>\n",
       "    <tr>\n",
       "      <th>0</th>\n",
       "      <td>1</td>\n",
       "      <td>New York Liberty</td>\n",
       "      <td>40</td>\n",
       "      <td>32</td>\n",
       "      <td>8</td>\n",
       "      <td>0.800</td>\n",
       "      <td>40.0</td>\n",
       "      <td>85.6</td>\n",
       "      <td>30.8</td>\n",
       "      <td>68.7</td>\n",
       "      <td>...</td>\n",
       "      <td>36.6</td>\n",
       "      <td>22.8</td>\n",
       "      <td>13.8</td>\n",
       "      <td>7.9</td>\n",
       "      <td>4.5</td>\n",
       "      <td>3.2</td>\n",
       "      <td>15.4</td>\n",
       "      <td>16.9</td>\n",
       "      <td>9.2</td>\n",
       "      <td>2024</td>\n",
       "    </tr>\n",
       "    <tr>\n",
       "      <th>1</th>\n",
       "      <td>2</td>\n",
       "      <td>Minnesota Lynx</td>\n",
       "      <td>40</td>\n",
       "      <td>30</td>\n",
       "      <td>10</td>\n",
       "      <td>0.750</td>\n",
       "      <td>40.4</td>\n",
       "      <td>82.0</td>\n",
       "      <td>30.1</td>\n",
       "      <td>67.3</td>\n",
       "      <td>...</td>\n",
       "      <td>34.3</td>\n",
       "      <td>23.0</td>\n",
       "      <td>14.3</td>\n",
       "      <td>8.6</td>\n",
       "      <td>4.2</td>\n",
       "      <td>3.7</td>\n",
       "      <td>16.4</td>\n",
       "      <td>15.7</td>\n",
       "      <td>6.4</td>\n",
       "      <td>2024</td>\n",
       "    </tr>\n",
       "    <tr>\n",
       "      <th>2</th>\n",
       "      <td>3</td>\n",
       "      <td>Connecticut Sun</td>\n",
       "      <td>40</td>\n",
       "      <td>28</td>\n",
       "      <td>12</td>\n",
       "      <td>0.700</td>\n",
       "      <td>40.3</td>\n",
       "      <td>80.1</td>\n",
       "      <td>29.3</td>\n",
       "      <td>65.9</td>\n",
       "      <td>...</td>\n",
       "      <td>33.5</td>\n",
       "      <td>19.9</td>\n",
       "      <td>13.3</td>\n",
       "      <td>8.2</td>\n",
       "      <td>3.7</td>\n",
       "      <td>4.6</td>\n",
       "      <td>16.1</td>\n",
       "      <td>18.1</td>\n",
       "      <td>6.5</td>\n",
       "      <td>2024</td>\n",
       "    </tr>\n",
       "    <tr>\n",
       "      <th>3</th>\n",
       "      <td>4</td>\n",
       "      <td>Las Vegas Aces</td>\n",
       "      <td>40</td>\n",
       "      <td>27</td>\n",
       "      <td>13</td>\n",
       "      <td>0.675</td>\n",
       "      <td>40.1</td>\n",
       "      <td>86.4</td>\n",
       "      <td>30.9</td>\n",
       "      <td>68.1</td>\n",
       "      <td>...</td>\n",
       "      <td>34.1</td>\n",
       "      <td>20.5</td>\n",
       "      <td>11.7</td>\n",
       "      <td>7.1</td>\n",
       "      <td>5.0</td>\n",
       "      <td>3.6</td>\n",
       "      <td>16.5</td>\n",
       "      <td>17.2</td>\n",
       "      <td>5.5</td>\n",
       "      <td>2024</td>\n",
       "    </tr>\n",
       "    <tr>\n",
       "      <th>4</th>\n",
       "      <td>5</td>\n",
       "      <td>Seattle Storm</td>\n",
       "      <td>40</td>\n",
       "      <td>25</td>\n",
       "      <td>15</td>\n",
       "      <td>0.625</td>\n",
       "      <td>40.3</td>\n",
       "      <td>83.2</td>\n",
       "      <td>31.1</td>\n",
       "      <td>71.3</td>\n",
       "      <td>...</td>\n",
       "      <td>34.7</td>\n",
       "      <td>20.7</td>\n",
       "      <td>13.1</td>\n",
       "      <td>9.3</td>\n",
       "      <td>5.2</td>\n",
       "      <td>4.6</td>\n",
       "      <td>16.5</td>\n",
       "      <td>16.4</td>\n",
       "      <td>4.5</td>\n",
       "      <td>2024</td>\n",
       "    </tr>\n",
       "  </tbody>\n",
       "</table>\n",
       "<p>5 rows × 29 columns</p>\n",
       "</div>"
      ],
      "text/plain": [
       "   Irrelevant #s              TEAM  GP   W   L   WIN%   MIN   PTS   FGM   FGA  \\\n",
       "0              1  New York Liberty  40  32   8  0.800  40.0  85.6  30.8  68.7   \n",
       "1              2    Minnesota Lynx  40  30  10  0.750  40.4  82.0  30.1  67.3   \n",
       "2              3   Connecticut Sun  40  28  12  0.700  40.3  80.1  29.3  65.9   \n",
       "3              4    Las Vegas Aces  40  27  13  0.675  40.1  86.4  30.9  68.1   \n",
       "4              5     Seattle Storm  40  25  15  0.625  40.3  83.2  31.1  71.3   \n",
       "\n",
       "   ...   REB   AST   TOV  STL  BLK  BLKA    PF   PFD  +/-  Year  \n",
       "0  ...  36.6  22.8  13.8  7.9  4.5   3.2  15.4  16.9  9.2  2024  \n",
       "1  ...  34.3  23.0  14.3  8.6  4.2   3.7  16.4  15.7  6.4  2024  \n",
       "2  ...  33.5  19.9  13.3  8.2  3.7   4.6  16.1  18.1  6.5  2024  \n",
       "3  ...  34.1  20.5  11.7  7.1  5.0   3.6  16.5  17.2  5.5  2024  \n",
       "4  ...  34.7  20.7  13.1  9.3  5.2   4.6  16.5  16.4  4.5  2024  \n",
       "\n",
       "[5 rows x 29 columns]"
      ]
     },
     "execution_count": 2,
     "metadata": {},
     "output_type": "execute_result"
    }
   ],
   "source": [
    "teams_gen_df = pd.read_excel('./data/WNBA.xlsx', sheet_name='Teams - General')\n",
    "teams_gen_df.head()"
   ]
  },
  {
   "cell_type": "code",
   "execution_count": 3,
   "metadata": {},
   "outputs": [
    {
     "data": {
      "text/html": [
       "<div>\n",
       "<style scoped>\n",
       "    .dataframe tbody tr th:only-of-type {\n",
       "        vertical-align: middle;\n",
       "    }\n",
       "\n",
       "    .dataframe tbody tr th {\n",
       "        vertical-align: top;\n",
       "    }\n",
       "\n",
       "    .dataframe thead th {\n",
       "        text-align: right;\n",
       "    }\n",
       "</style>\n",
       "<table border=\"1\" class=\"dataframe\">\n",
       "  <thead>\n",
       "    <tr style=\"text-align: right;\">\n",
       "      <th></th>\n",
       "      <th>TEAM</th>\n",
       "      <th>Year</th>\n",
       "      <th>Ranking</th>\n",
       "      <th>Roster</th>\n",
       "    </tr>\n",
       "  </thead>\n",
       "  <tbody>\n",
       "    <tr>\n",
       "      <th>0</th>\n",
       "      <td>1. New York Liberty - x</td>\n",
       "      <td>2024</td>\n",
       "      <td>1.0</td>\n",
       "      <td>New York Liberty</td>\n",
       "    </tr>\n",
       "    <tr>\n",
       "      <th>1</th>\n",
       "      <td>2. Minnesota Lynx - x</td>\n",
       "      <td>2024</td>\n",
       "      <td>2.0</td>\n",
       "      <td>Minnesota Lynx</td>\n",
       "    </tr>\n",
       "    <tr>\n",
       "      <th>2</th>\n",
       "      <td>3. Connecticut Sun - x</td>\n",
       "      <td>2024</td>\n",
       "      <td>3.0</td>\n",
       "      <td>Connecticut Sun</td>\n",
       "    </tr>\n",
       "    <tr>\n",
       "      <th>3</th>\n",
       "      <td>4. Las Vegas Aces - x</td>\n",
       "      <td>2024</td>\n",
       "      <td>4.0</td>\n",
       "      <td>Las Vegas Aces</td>\n",
       "    </tr>\n",
       "    <tr>\n",
       "      <th>4</th>\n",
       "      <td>5. Seattle Storm - x</td>\n",
       "      <td>2024</td>\n",
       "      <td>5.0</td>\n",
       "      <td>Seattle Storm</td>\n",
       "    </tr>\n",
       "  </tbody>\n",
       "</table>\n",
       "</div>"
      ],
      "text/plain": [
       "                      TEAM  Year  Ranking            Roster\n",
       "0  1. New York Liberty - x  2024      1.0  New York Liberty\n",
       "1    2. Minnesota Lynx - x  2024      2.0    Minnesota Lynx\n",
       "2   3. Connecticut Sun - x  2024      3.0   Connecticut Sun\n",
       "3    4. Las Vegas Aces - x  2024      4.0    Las Vegas Aces\n",
       "4     5. Seattle Storm - x  2024      5.0     Seattle Storm"
      ]
     },
     "execution_count": 3,
     "metadata": {},
     "output_type": "execute_result"
    }
   ],
   "source": [
    "rankings_df = pd.read_excel('./data/WNBA.xlsx', sheet_name='Rankings and Roster')\n",
    "rankings_df = rankings_df[['TEAM', 'Year', 'Ranking', 'Roster']]\n",
    "rankings_df.head()"
   ]
  },
  {
   "cell_type": "code",
   "execution_count": 4,
   "metadata": {},
   "outputs": [
    {
     "data": {
      "text/html": [
       "<div>\n",
       "<style scoped>\n",
       "    .dataframe tbody tr th:only-of-type {\n",
       "        vertical-align: middle;\n",
       "    }\n",
       "\n",
       "    .dataframe tbody tr th {\n",
       "        vertical-align: top;\n",
       "    }\n",
       "\n",
       "    .dataframe thead th {\n",
       "        text-align: right;\n",
       "    }\n",
       "</style>\n",
       "<table border=\"1\" class=\"dataframe\">\n",
       "  <thead>\n",
       "    <tr style=\"text-align: right;\">\n",
       "      <th></th>\n",
       "      <th>Player</th>\n",
       "      <th>Draft Year</th>\n",
       "      <th>Round</th>\n",
       "      <th>Round Number</th>\n",
       "      <th>Pick Number</th>\n",
       "      <th>Draft Team</th>\n",
       "      <th>College Team</th>\n",
       "      <th>Draft Info</th>\n",
       "    </tr>\n",
       "  </thead>\n",
       "  <tbody>\n",
       "    <tr>\n",
       "      <th>1146</th>\n",
       "      <td>Vickie Johnson</td>\n",
       "      <td>1997</td>\n",
       "      <td>Elite Second</td>\n",
       "      <td>NaN</td>\n",
       "      <td>4</td>\n",
       "      <td>New York Liberty</td>\n",
       "      <td>NaN</td>\n",
       "      <td>1997, Round , Pick 4</td>\n",
       "    </tr>\n",
       "    <tr>\n",
       "      <th>1147</th>\n",
       "      <td>Janeth Arcain</td>\n",
       "      <td>1997</td>\n",
       "      <td>Elite Second</td>\n",
       "      <td>NaN</td>\n",
       "      <td>5</td>\n",
       "      <td>Houston Comets</td>\n",
       "      <td>NaN</td>\n",
       "      <td>1997, Round , Pick 5</td>\n",
       "    </tr>\n",
       "    <tr>\n",
       "      <th>1148</th>\n",
       "      <td>Mikiko Hagiwara</td>\n",
       "      <td>1997</td>\n",
       "      <td>Elite Second</td>\n",
       "      <td>NaN</td>\n",
       "      <td>6</td>\n",
       "      <td>Sacramento Monarchs</td>\n",
       "      <td>NaN</td>\n",
       "      <td>1997, Round , Pick 6</td>\n",
       "    </tr>\n",
       "    <tr>\n",
       "      <th>1149</th>\n",
       "      <td>Nancy Lieberman-Cline</td>\n",
       "      <td>1997</td>\n",
       "      <td>Elite Second</td>\n",
       "      <td>NaN</td>\n",
       "      <td>7</td>\n",
       "      <td>Phoenix Mercury</td>\n",
       "      <td>NaN</td>\n",
       "      <td>1997, Round , Pick 7</td>\n",
       "    </tr>\n",
       "    <tr>\n",
       "      <th>1150</th>\n",
       "      <td>Haixia Zheng</td>\n",
       "      <td>1997</td>\n",
       "      <td>Elite Second</td>\n",
       "      <td>NaN</td>\n",
       "      <td>8</td>\n",
       "      <td>Los Angeles Sparks</td>\n",
       "      <td>NaN</td>\n",
       "      <td>1997, Round , Pick 8</td>\n",
       "    </tr>\n",
       "  </tbody>\n",
       "</table>\n",
       "</div>"
      ],
      "text/plain": [
       "                     Player  Draft Year         Round  Round Number  \\\n",
       "1146         Vickie Johnson        1997  Elite Second           NaN   \n",
       "1147          Janeth Arcain        1997  Elite Second           NaN   \n",
       "1148        Mikiko Hagiwara        1997  Elite Second           NaN   \n",
       "1149  Nancy Lieberman-Cline        1997  Elite Second           NaN   \n",
       "1150           Haixia Zheng        1997  Elite Second           NaN   \n",
       "\n",
       "      Pick Number           Draft Team College Team            Draft Info  \n",
       "1146            4     New York Liberty          NaN  1997, Round , Pick 4  \n",
       "1147            5       Houston Comets          NaN  1997, Round , Pick 5  \n",
       "1148            6  Sacramento Monarchs          NaN  1997, Round , Pick 6  \n",
       "1149            7      Phoenix Mercury          NaN  1997, Round , Pick 7  \n",
       "1150            8   Los Angeles Sparks          NaN  1997, Round , Pick 8  "
      ]
     },
     "execution_count": 4,
     "metadata": {},
     "output_type": "execute_result"
    }
   ],
   "source": [
    "draft_df = pd.read_excel('./data/WNBA.xlsx', sheet_name='Draft Data')\n",
    "draft_df.tail()"
   ]
  },
  {
   "cell_type": "markdown",
   "metadata": {},
   "source": [
    "### Engineer the data"
   ]
  },
  {
   "cell_type": "code",
   "execution_count": 5,
   "metadata": {},
   "outputs": [
    {
     "data": {
      "text/plain": [
       "array(['New York Liberty', 'Minnesota Lynx', 'Connecticut Sun',\n",
       "       'Las Vegas Aces', 'Seattle Storm', 'Indiana Fever',\n",
       "       'Phoenix Mercury', 'Atlanta Dream', 'Washington Mystics',\n",
       "       'Chicago Sky', 'Dallas Wings', 'Los Angeles Sparks',\n",
       "       'San Antonio Stars', 'Tulsa Shock', 'San Antonio Silver Stars'],\n",
       "      dtype=object)"
      ]
     },
     "execution_count": 5,
     "metadata": {},
     "output_type": "execute_result"
    }
   ],
   "source": [
    "rankings_df['Roster'].unique()"
   ]
  },
  {
   "cell_type": "code",
   "execution_count": 6,
   "metadata": {},
   "outputs": [
    {
     "data": {
      "text/html": [
       "<div>\n",
       "<style scoped>\n",
       "    .dataframe tbody tr th:only-of-type {\n",
       "        vertical-align: middle;\n",
       "    }\n",
       "\n",
       "    .dataframe tbody tr th {\n",
       "        vertical-align: top;\n",
       "    }\n",
       "\n",
       "    .dataframe thead th {\n",
       "        text-align: right;\n",
       "    }\n",
       "</style>\n",
       "<table border=\"1\" class=\"dataframe\">\n",
       "  <thead>\n",
       "    <tr style=\"text-align: right;\">\n",
       "      <th></th>\n",
       "      <th>TEAM</th>\n",
       "      <th>Year</th>\n",
       "      <th>Ranking</th>\n",
       "      <th>Roster</th>\n",
       "    </tr>\n",
       "  </thead>\n",
       "  <tbody>\n",
       "  </tbody>\n",
       "</table>\n",
       "</div>"
      ],
      "text/plain": [
       "Empty DataFrame\n",
       "Columns: [TEAM, Year, Ranking, Roster]\n",
       "Index: []"
      ]
     },
     "execution_count": 6,
     "metadata": {},
     "output_type": "execute_result"
    }
   ],
   "source": [
    "rankings_df[rankings_df['Roster'].isna()].head()"
   ]
  },
  {
   "cell_type": "code",
   "execution_count": 7,
   "metadata": {},
   "outputs": [
    {
     "data": {
      "text/html": [
       "<div>\n",
       "<style scoped>\n",
       "    .dataframe tbody tr th:only-of-type {\n",
       "        vertical-align: middle;\n",
       "    }\n",
       "\n",
       "    .dataframe tbody tr th {\n",
       "        vertical-align: top;\n",
       "    }\n",
       "\n",
       "    .dataframe thead th {\n",
       "        text-align: right;\n",
       "    }\n",
       "</style>\n",
       "<table border=\"1\" class=\"dataframe\">\n",
       "  <thead>\n",
       "    <tr style=\"text-align: right;\">\n",
       "      <th></th>\n",
       "      <th>Irrelevant #s</th>\n",
       "      <th>TEAM_x</th>\n",
       "      <th>GP</th>\n",
       "      <th>W</th>\n",
       "      <th>L</th>\n",
       "      <th>WIN%</th>\n",
       "      <th>MIN</th>\n",
       "      <th>PTS</th>\n",
       "      <th>FGM</th>\n",
       "      <th>FGA</th>\n",
       "      <th>...</th>\n",
       "      <th>STL</th>\n",
       "      <th>BLK</th>\n",
       "      <th>BLKA</th>\n",
       "      <th>PF</th>\n",
       "      <th>PFD</th>\n",
       "      <th>+/-</th>\n",
       "      <th>Year</th>\n",
       "      <th>TEAM_y</th>\n",
       "      <th>Ranking</th>\n",
       "      <th>Roster</th>\n",
       "    </tr>\n",
       "  </thead>\n",
       "  <tbody>\n",
       "    <tr>\n",
       "      <th>0</th>\n",
       "      <td>1</td>\n",
       "      <td>New York Liberty</td>\n",
       "      <td>40</td>\n",
       "      <td>32</td>\n",
       "      <td>8</td>\n",
       "      <td>0.800</td>\n",
       "      <td>40.0</td>\n",
       "      <td>85.6</td>\n",
       "      <td>30.8</td>\n",
       "      <td>68.7</td>\n",
       "      <td>...</td>\n",
       "      <td>7.9</td>\n",
       "      <td>4.5</td>\n",
       "      <td>3.2</td>\n",
       "      <td>15.4</td>\n",
       "      <td>16.9</td>\n",
       "      <td>9.2</td>\n",
       "      <td>2024</td>\n",
       "      <td>1. New York Liberty - x</td>\n",
       "      <td>1.0</td>\n",
       "      <td>New York Liberty</td>\n",
       "    </tr>\n",
       "    <tr>\n",
       "      <th>1</th>\n",
       "      <td>2</td>\n",
       "      <td>Minnesota Lynx</td>\n",
       "      <td>40</td>\n",
       "      <td>30</td>\n",
       "      <td>10</td>\n",
       "      <td>0.750</td>\n",
       "      <td>40.4</td>\n",
       "      <td>82.0</td>\n",
       "      <td>30.1</td>\n",
       "      <td>67.3</td>\n",
       "      <td>...</td>\n",
       "      <td>8.6</td>\n",
       "      <td>4.2</td>\n",
       "      <td>3.7</td>\n",
       "      <td>16.4</td>\n",
       "      <td>15.7</td>\n",
       "      <td>6.4</td>\n",
       "      <td>2024</td>\n",
       "      <td>2. Minnesota Lynx - x</td>\n",
       "      <td>2.0</td>\n",
       "      <td>Minnesota Lynx</td>\n",
       "    </tr>\n",
       "    <tr>\n",
       "      <th>2</th>\n",
       "      <td>3</td>\n",
       "      <td>Connecticut Sun</td>\n",
       "      <td>40</td>\n",
       "      <td>28</td>\n",
       "      <td>12</td>\n",
       "      <td>0.700</td>\n",
       "      <td>40.3</td>\n",
       "      <td>80.1</td>\n",
       "      <td>29.3</td>\n",
       "      <td>65.9</td>\n",
       "      <td>...</td>\n",
       "      <td>8.2</td>\n",
       "      <td>3.7</td>\n",
       "      <td>4.6</td>\n",
       "      <td>16.1</td>\n",
       "      <td>18.1</td>\n",
       "      <td>6.5</td>\n",
       "      <td>2024</td>\n",
       "      <td>3. Connecticut Sun - x</td>\n",
       "      <td>3.0</td>\n",
       "      <td>Connecticut Sun</td>\n",
       "    </tr>\n",
       "    <tr>\n",
       "      <th>3</th>\n",
       "      <td>4</td>\n",
       "      <td>Las Vegas Aces</td>\n",
       "      <td>40</td>\n",
       "      <td>27</td>\n",
       "      <td>13</td>\n",
       "      <td>0.675</td>\n",
       "      <td>40.1</td>\n",
       "      <td>86.4</td>\n",
       "      <td>30.9</td>\n",
       "      <td>68.1</td>\n",
       "      <td>...</td>\n",
       "      <td>7.1</td>\n",
       "      <td>5.0</td>\n",
       "      <td>3.6</td>\n",
       "      <td>16.5</td>\n",
       "      <td>17.2</td>\n",
       "      <td>5.5</td>\n",
       "      <td>2024</td>\n",
       "      <td>4. Las Vegas Aces - x</td>\n",
       "      <td>4.0</td>\n",
       "      <td>Las Vegas Aces</td>\n",
       "    </tr>\n",
       "    <tr>\n",
       "      <th>4</th>\n",
       "      <td>5</td>\n",
       "      <td>Seattle Storm</td>\n",
       "      <td>40</td>\n",
       "      <td>25</td>\n",
       "      <td>15</td>\n",
       "      <td>0.625</td>\n",
       "      <td>40.3</td>\n",
       "      <td>83.2</td>\n",
       "      <td>31.1</td>\n",
       "      <td>71.3</td>\n",
       "      <td>...</td>\n",
       "      <td>9.3</td>\n",
       "      <td>5.2</td>\n",
       "      <td>4.6</td>\n",
       "      <td>16.5</td>\n",
       "      <td>16.4</td>\n",
       "      <td>4.5</td>\n",
       "      <td>2024</td>\n",
       "      <td>5. Seattle Storm - x</td>\n",
       "      <td>5.0</td>\n",
       "      <td>Seattle Storm</td>\n",
       "    </tr>\n",
       "  </tbody>\n",
       "</table>\n",
       "<p>5 rows × 32 columns</p>\n",
       "</div>"
      ],
      "text/plain": [
       "   Irrelevant #s            TEAM_x  GP   W   L   WIN%   MIN   PTS   FGM   FGA  \\\n",
       "0              1  New York Liberty  40  32   8  0.800  40.0  85.6  30.8  68.7   \n",
       "1              2    Minnesota Lynx  40  30  10  0.750  40.4  82.0  30.1  67.3   \n",
       "2              3   Connecticut Sun  40  28  12  0.700  40.3  80.1  29.3  65.9   \n",
       "3              4    Las Vegas Aces  40  27  13  0.675  40.1  86.4  30.9  68.1   \n",
       "4              5     Seattle Storm  40  25  15  0.625  40.3  83.2  31.1  71.3   \n",
       "\n",
       "   ...  STL  BLK  BLKA    PF   PFD  +/-  Year                   TEAM_y  \\\n",
       "0  ...  7.9  4.5   3.2  15.4  16.9  9.2  2024  1. New York Liberty - x   \n",
       "1  ...  8.6  4.2   3.7  16.4  15.7  6.4  2024    2. Minnesota Lynx - x   \n",
       "2  ...  8.2  3.7   4.6  16.1  18.1  6.5  2024   3. Connecticut Sun - x   \n",
       "3  ...  7.1  5.0   3.6  16.5  17.2  5.5  2024    4. Las Vegas Aces - x   \n",
       "4  ...  9.3  5.2   4.6  16.5  16.4  4.5  2024     5. Seattle Storm - x   \n",
       "\n",
       "   Ranking            Roster  \n",
       "0      1.0  New York Liberty  \n",
       "1      2.0    Minnesota Lynx  \n",
       "2      3.0   Connecticut Sun  \n",
       "3      4.0    Las Vegas Aces  \n",
       "4      5.0     Seattle Storm  \n",
       "\n",
       "[5 rows x 32 columns]"
      ]
     },
     "execution_count": 7,
     "metadata": {},
     "output_type": "execute_result"
    }
   ],
   "source": [
    "team_df = teams_gen_df.merge(rankings_df, left_on=['TEAM', 'Year'], right_on=['Roster', 'Year'])\n",
    "team_df.head()"
   ]
  },
  {
   "cell_type": "code",
   "execution_count": 8,
   "metadata": {},
   "outputs": [
    {
     "data": {
      "text/plain": [
       "Index(['Irrelevant #s',        'TEAM_x',            'GP',             'W',\n",
       "                   'L',          'WIN%',           'MIN',           'PTS',\n",
       "                 'FGM',           'FGA',           'FG%',        15:00:00,\n",
       "                 '3PA',           '3P%',           'FTM',           'FTA',\n",
       "                 'FT%',          'OREB',          'DREB',           'REB',\n",
       "                 'AST',           'TOV',           'STL',           'BLK',\n",
       "                'BLKA',            'PF',           'PFD',           '+/-',\n",
       "                'Year',        'TEAM_y',       'Ranking',        'Roster'],\n",
       "      dtype='object')"
      ]
     },
     "execution_count": 8,
     "metadata": {},
     "output_type": "execute_result"
    }
   ],
   "source": [
    "team_df.columns"
   ]
  },
  {
   "cell_type": "code",
   "execution_count": 9,
   "metadata": {},
   "outputs": [
    {
     "data": {
      "text/plain": [
       "array(['Indiana Fever', 'Los Angeles Sparks', 'Chicago Sky',\n",
       "       'Dallas Wings', 'Washington Mystics', 'Minnesota Lynx',\n",
       "       'Connecticut Sun', 'New York Liberty', 'Atlanta Dream',\n",
       "       'Seattle Storm', 'Las Vegas Aces', 'Phoenix Mercury',\n",
       "       'Washington Mystics*', 'Atlanta Dream (via WAS)',\n",
       "       'Washington Mystics (via ATL)', 'Indiana Fever (via LAS)',\n",
       "       'Indiana Fever (via DAL)', 'Dallas Wings (via CHI)',\n",
       "       'Las Vegas Aces (via PHX)', 'Los Angeles Sparks (via SEA)',\n",
       "       'Indiana Fever (via MIN)', 'Las Vegas Aces (via IND)',\n",
       "       'Atlanta Dream (via LAS)', 'Los Angeles Sparks (via WAS)',\n",
       "       'Seattle Storm (via NYL)',\n",
       "       'Seattle Storm (traded in principle to NYL)',\n",
       "       'Los Angeles Sparks (via CHI)', 'Indiana Fever (via PHX)',\n",
       "       'Phoenix Mercury (via ATL)', 'Dallas Wings (via WAS)',\n",
       "       'New York Liberty (via CON)', 'Los Angeles Sparks (via DAL)',\n",
       "       'Chicago Sky (via PHX)', 'Seattle Storm (traded to IND)',\n",
       "       'Dallas Wings (via NYL)', 'Chicago Sky (from DAL)',\n",
       "       'New York Liberty (via WAS)', 'Seattle Storm (via CON)',\n",
       "       'Indiana Fever (via CHI)', 'Connecticut Sun (via PHX)',\n",
       "       'Connecticut Sun (via MIN)', 'Los Angeles Sparks (via Dallas)',\n",
       "       'Dallas Wings (from PHX)', 'Dallas Wings (from SEA via CON, PHX)',\n",
       "       'New York Liberty (from DAL via LVA)',\n",
       "       'Phoenix Mercury (from LAS via CON, traded to NYL for Shatori Walker-Kimbrough)',\n",
       "       'Seattle Storm (from CON)', 'New York Liberty (from WAS)',\n",
       "       'New York Liberty (from ATL)', 'Indiana Fever (from NYL via MIN)',\n",
       "       'New York Liberty (from DAL)', 'Minnesota Lynx (from IND)',\n",
       "       'Atlanta Dream (from PHX)', 'Phoenix Mercury (from MIN)',\n",
       "       'Los Angeles Sparks (from CHI)', 'Dallas Wings (from LVA)',\n",
       "       'New York Liberty (traded to MIN for Stephanie Talbot)',\n",
       "       'Atlanta Dream (from DAL)', 'Chicago Sky (from MIN)',\n",
       "       'Atlanta Dream (Traded to PHX)', 'Minnesota Lynx (Traded to CON)',\n",
       "       'San Antonio Stars', 'Los Angeles Sparks (traded to CON)',\n",
       "       'Minnesota Lynx (Traded to SAS)', 'Tulsa Shock', 'Chicago sky',\n",
       "       'San Antonio Silver Stars', 'Atlanta Dream (Traded to WAS)',\n",
       "       'Minnesota Lynx (Traded to NYL)', 'Minnesota Lynx (Traded to ATL)',\n",
       "       'Connecticut Sun (Traded to NYL)', 'Atlanta Dream (Traded to MIN)',\n",
       "       'Phoenix Mercury (Traded to CON)', 'Minnesota Lynx (Traded to CT)',\n",
       "       'Sacramento Monarchs', 'Detroit Shock', 'Houston Comets',\n",
       "       'San Antonio Silver Stars (Traded to Atl.)',\n",
       "       'Atlanta Dream (Traded to S.A.)',\n",
       "       'Phoenix Mercury (Traded to Minn.)',\n",
       "       'San Antonio Silver Stars (Traded to N.Y.)', 'Charlotte Sting',\n",
       "       'Houston Comets (traded to Pho.)',\n",
       "       'Detroit Shock (traded to Minn.)',\n",
       "       'Phoenix Mercury (traded to Hou.)', 'Cleveland Rockers',\n",
       "       'Portland Fire', 'Minnesota', 'Utah Starzz', 'Miami Sol',\n",
       "       'Orlando Miracle', 'Uath'], dtype=object)"
      ]
     },
     "execution_count": 9,
     "metadata": {},
     "output_type": "execute_result"
    }
   ],
   "source": [
    "draft_df['Draft Team'].unique()"
   ]
  },
  {
   "cell_type": "code",
   "execution_count": 10,
   "metadata": {},
   "outputs": [
    {
     "data": {
      "text/html": [
       "<div>\n",
       "<style scoped>\n",
       "    .dataframe tbody tr th:only-of-type {\n",
       "        vertical-align: middle;\n",
       "    }\n",
       "\n",
       "    .dataframe tbody tr th {\n",
       "        vertical-align: top;\n",
       "    }\n",
       "\n",
       "    .dataframe thead th {\n",
       "        text-align: right;\n",
       "    }\n",
       "</style>\n",
       "<table border=\"1\" class=\"dataframe\">\n",
       "  <thead>\n",
       "    <tr style=\"text-align: right;\">\n",
       "      <th></th>\n",
       "      <th>Player</th>\n",
       "      <th>Draft Year</th>\n",
       "      <th>Round</th>\n",
       "      <th>Round Number</th>\n",
       "      <th>Pick Number</th>\n",
       "      <th>Draft Team</th>\n",
       "      <th>College Team</th>\n",
       "      <th>Draft Info</th>\n",
       "    </tr>\n",
       "  </thead>\n",
       "  <tbody>\n",
       "    <tr>\n",
       "      <th>1135</th>\n",
       "      <td>Dena Head</td>\n",
       "      <td>1997</td>\n",
       "      <td>Elite First</td>\n",
       "      <td>NaN</td>\n",
       "      <td>1</td>\n",
       "      <td>Utah Starzz</td>\n",
       "      <td>NaN</td>\n",
       "      <td>1997, Round , Pick 1</td>\n",
       "    </tr>\n",
       "    <tr>\n",
       "      <th>1136</th>\n",
       "      <td>Isabelle Fijalkowski</td>\n",
       "      <td>1997</td>\n",
       "      <td>Elite First</td>\n",
       "      <td>NaN</td>\n",
       "      <td>2</td>\n",
       "      <td>Cleveland Rockers</td>\n",
       "      <td>NaN</td>\n",
       "      <td>1997, Round , Pick 2</td>\n",
       "    </tr>\n",
       "    <tr>\n",
       "      <th>1137</th>\n",
       "      <td>Rhonda Mapp</td>\n",
       "      <td>1997</td>\n",
       "      <td>Elite First</td>\n",
       "      <td>NaN</td>\n",
       "      <td>3</td>\n",
       "      <td>Charlotte Sting</td>\n",
       "      <td>NaN</td>\n",
       "      <td>1997, Round , Pick 3</td>\n",
       "    </tr>\n",
       "    <tr>\n",
       "      <th>1138</th>\n",
       "      <td>Kym Hampton</td>\n",
       "      <td>1997</td>\n",
       "      <td>Elite First</td>\n",
       "      <td>NaN</td>\n",
       "      <td>4</td>\n",
       "      <td>New York Liberty</td>\n",
       "      <td>NaN</td>\n",
       "      <td>1997, Round , Pick 4</td>\n",
       "    </tr>\n",
       "    <tr>\n",
       "      <th>1139</th>\n",
       "      <td>Wanda Guyton</td>\n",
       "      <td>1997</td>\n",
       "      <td>Elite First</td>\n",
       "      <td>NaN</td>\n",
       "      <td>5</td>\n",
       "      <td>Houston Comets</td>\n",
       "      <td>NaN</td>\n",
       "      <td>1997, Round , Pick 5</td>\n",
       "    </tr>\n",
       "  </tbody>\n",
       "</table>\n",
       "</div>"
      ],
      "text/plain": [
       "                    Player  Draft Year        Round  Round Number  \\\n",
       "1135             Dena Head        1997  Elite First           NaN   \n",
       "1136  Isabelle Fijalkowski        1997  Elite First           NaN   \n",
       "1137           Rhonda Mapp        1997  Elite First           NaN   \n",
       "1138           Kym Hampton        1997  Elite First           NaN   \n",
       "1139          Wanda Guyton        1997  Elite First           NaN   \n",
       "\n",
       "      Pick Number         Draft Team College Team            Draft Info  \n",
       "1135            1        Utah Starzz          NaN  1997, Round , Pick 1  \n",
       "1136            2  Cleveland Rockers          NaN  1997, Round , Pick 2  \n",
       "1137            3    Charlotte Sting          NaN  1997, Round , Pick 3  \n",
       "1138            4   New York Liberty          NaN  1997, Round , Pick 4  \n",
       "1139            5     Houston Comets          NaN  1997, Round , Pick 5  "
      ]
     },
     "execution_count": 10,
     "metadata": {},
     "output_type": "execute_result"
    }
   ],
   "source": [
    "draft_df[draft_df['Round Number'].isna()].head()"
   ]
  },
  {
   "cell_type": "code",
   "execution_count": 11,
   "metadata": {},
   "outputs": [
    {
     "data": {
      "text/html": [
       "<div>\n",
       "<style scoped>\n",
       "    .dataframe tbody tr th:only-of-type {\n",
       "        vertical-align: middle;\n",
       "    }\n",
       "\n",
       "    .dataframe tbody tr th {\n",
       "        vertical-align: top;\n",
       "    }\n",
       "\n",
       "    .dataframe thead th {\n",
       "        text-align: right;\n",
       "    }\n",
       "</style>\n",
       "<table border=\"1\" class=\"dataframe\">\n",
       "  <thead>\n",
       "    <tr style=\"text-align: right;\">\n",
       "      <th></th>\n",
       "      <th>Player</th>\n",
       "      <th>Draft Year</th>\n",
       "      <th>Round</th>\n",
       "      <th>Round Number</th>\n",
       "      <th>Pick Number</th>\n",
       "      <th>Draft Team</th>\n",
       "      <th>College Team</th>\n",
       "      <th>Draft Info</th>\n",
       "      <th>Trimmed Draft Team</th>\n",
       "    </tr>\n",
       "  </thead>\n",
       "  <tbody>\n",
       "    <tr>\n",
       "      <th>0</th>\n",
       "      <td>Caitlin Clark</td>\n",
       "      <td>2024</td>\n",
       "      <td>First</td>\n",
       "      <td>1</td>\n",
       "      <td>1</td>\n",
       "      <td>Indiana Fever</td>\n",
       "      <td>Iowa</td>\n",
       "      <td>2024, Round 1, Pick 1</td>\n",
       "      <td>Indiana Fever</td>\n",
       "    </tr>\n",
       "    <tr>\n",
       "      <th>1</th>\n",
       "      <td>Cameron Brink</td>\n",
       "      <td>2024</td>\n",
       "      <td>First</td>\n",
       "      <td>1</td>\n",
       "      <td>2</td>\n",
       "      <td>Los Angeles Sparks</td>\n",
       "      <td>Stanford</td>\n",
       "      <td>2024, Round 1, Pick 2</td>\n",
       "      <td>Los Angeles Sparks</td>\n",
       "    </tr>\n",
       "    <tr>\n",
       "      <th>2</th>\n",
       "      <td>Kamilla Cardoso</td>\n",
       "      <td>2024</td>\n",
       "      <td>First</td>\n",
       "      <td>1</td>\n",
       "      <td>3</td>\n",
       "      <td>Chicago Sky</td>\n",
       "      <td>South Carolina</td>\n",
       "      <td>2024, Round 1, Pick 3</td>\n",
       "      <td>Chicago Sky</td>\n",
       "    </tr>\n",
       "    <tr>\n",
       "      <th>3</th>\n",
       "      <td>Rickea Jackson</td>\n",
       "      <td>2024</td>\n",
       "      <td>First</td>\n",
       "      <td>1</td>\n",
       "      <td>4</td>\n",
       "      <td>Los Angeles Sparks</td>\n",
       "      <td>Tennessee</td>\n",
       "      <td>2024, Round 1, Pick 4</td>\n",
       "      <td>Los Angeles Sparks</td>\n",
       "    </tr>\n",
       "    <tr>\n",
       "      <th>4</th>\n",
       "      <td>Jacy Sheldon</td>\n",
       "      <td>2024</td>\n",
       "      <td>First</td>\n",
       "      <td>1</td>\n",
       "      <td>5</td>\n",
       "      <td>Dallas Wings</td>\n",
       "      <td>Ohio State</td>\n",
       "      <td>2024, Round 1, Pick 5</td>\n",
       "      <td>Dallas Wings</td>\n",
       "    </tr>\n",
       "  </tbody>\n",
       "</table>\n",
       "</div>"
      ],
      "text/plain": [
       "            Player  Draft Year  Round  Round Number  Pick Number  \\\n",
       "0    Caitlin Clark        2024  First             1            1   \n",
       "1    Cameron Brink        2024  First             1            2   \n",
       "2  Kamilla Cardoso        2024  First             1            3   \n",
       "3   Rickea Jackson        2024  First             1            4   \n",
       "4     Jacy Sheldon        2024  First             1            5   \n",
       "\n",
       "           Draft Team    College Team             Draft Info  \\\n",
       "0       Indiana Fever            Iowa  2024, Round 1, Pick 1   \n",
       "1  Los Angeles Sparks        Stanford  2024, Round 1, Pick 2   \n",
       "2         Chicago Sky  South Carolina  2024, Round 1, Pick 3   \n",
       "3  Los Angeles Sparks       Tennessee  2024, Round 1, Pick 4   \n",
       "4        Dallas Wings      Ohio State  2024, Round 1, Pick 5   \n",
       "\n",
       "   Trimmed Draft Team  \n",
       "0       Indiana Fever  \n",
       "1  Los Angeles Sparks  \n",
       "2         Chicago Sky  \n",
       "3  Los Angeles Sparks  \n",
       "4        Dallas Wings  "
      ]
     },
     "execution_count": 11,
     "metadata": {},
     "output_type": "execute_result"
    }
   ],
   "source": [
    "draft_df['Trimmed Draft Team'] = draft_df['Draft Team'].str.split('(', expand=False).str[0].str.strip()\n",
    "draft_df.loc[draft_df['Player'] == 'Naomi Mullitauaopele', 'Draft Team'] = 'Utah Starzz'\n",
    "draft_df.loc[draft_df['Draft Team'] == 'Chicago sky', 'Draft Team'] = 'Chicago Sky'\n",
    "draft_df.loc[draft_df['Draft Team'] == 'Minnesota', 'Draft Team'] = 'Minnesota Lynx'\n",
    "draft_df.loc[draft_df['Draft Team'] == 'Washington Mystics*', 'Draft Team'] = 'Washington Mystics'\n",
    "draft_df['Round Number'] = draft_df['Round Number'].fillna(-1.0)\n",
    "draft_df['Round Number'] = draft_df['Round Number'].astype(int)\n",
    "draft_df.head()"
   ]
  },
  {
   "cell_type": "code",
   "execution_count": 12,
   "metadata": {},
   "outputs": [
    {
     "data": {
      "text/plain": [
       "array([ 1,  2,  3,  4, -1])"
      ]
     },
     "execution_count": 12,
     "metadata": {},
     "output_type": "execute_result"
    }
   ],
   "source": [
    "draft_df['Round Number'].unique()"
   ]
  },
  {
   "cell_type": "code",
   "execution_count": 13,
   "metadata": {},
   "outputs": [
    {
     "data": {
      "text/plain": [
       "array(['Indiana Fever', 'Los Angeles Sparks', 'Chicago Sky',\n",
       "       'Dallas Wings', 'Washington Mystics', 'Minnesota Lynx',\n",
       "       'Connecticut Sun', 'New York Liberty', 'Atlanta Dream',\n",
       "       'Seattle Storm', 'Las Vegas Aces', 'Phoenix Mercury',\n",
       "       'Washington Mystics*', 'San Antonio Stars', 'Tulsa Shock',\n",
       "       'Chicago sky', 'San Antonio Silver Stars', 'Sacramento Monarchs',\n",
       "       'Detroit Shock', 'Houston Comets', 'Charlotte Sting',\n",
       "       'Cleveland Rockers', 'Portland Fire', 'Minnesota', 'Utah Starzz',\n",
       "       'Miami Sol', 'Orlando Miracle', 'Uath'], dtype=object)"
      ]
     },
     "execution_count": 13,
     "metadata": {},
     "output_type": "execute_result"
    }
   ],
   "source": [
    "draft_df['Trimmed Draft Team'].unique()"
   ]
  },
  {
   "cell_type": "code",
   "execution_count": 14,
   "metadata": {},
   "outputs": [
    {
     "data": {
      "text/html": [
       "<div>\n",
       "<style scoped>\n",
       "    .dataframe tbody tr th:only-of-type {\n",
       "        vertical-align: middle;\n",
       "    }\n",
       "\n",
       "    .dataframe tbody tr th {\n",
       "        vertical-align: top;\n",
       "    }\n",
       "\n",
       "    .dataframe thead th {\n",
       "        text-align: right;\n",
       "    }\n",
       "</style>\n",
       "<table border=\"1\" class=\"dataframe\">\n",
       "  <thead>\n",
       "    <tr style=\"text-align: right;\">\n",
       "      <th></th>\n",
       "      <th>Trimmed Draft Team</th>\n",
       "      <th>Draft Year</th>\n",
       "      <th>Number_of_Players_Drafted</th>\n",
       "      <th>Number_of_First_Round_Drafts</th>\n",
       "    </tr>\n",
       "  </thead>\n",
       "  <tbody>\n",
       "    <tr>\n",
       "      <th>0</th>\n",
       "      <td>Atlanta Dream</td>\n",
       "      <td>2008</td>\n",
       "      <td>3</td>\n",
       "      <td>1</td>\n",
       "    </tr>\n",
       "    <tr>\n",
       "      <th>1</th>\n",
       "      <td>Atlanta Dream</td>\n",
       "      <td>2009</td>\n",
       "      <td>3</td>\n",
       "      <td>1</td>\n",
       "    </tr>\n",
       "    <tr>\n",
       "      <th>2</th>\n",
       "      <td>Atlanta Dream</td>\n",
       "      <td>2010</td>\n",
       "      <td>3</td>\n",
       "      <td>1</td>\n",
       "    </tr>\n",
       "    <tr>\n",
       "      <th>3</th>\n",
       "      <td>Atlanta Dream</td>\n",
       "      <td>2011</td>\n",
       "      <td>3</td>\n",
       "      <td>1</td>\n",
       "    </tr>\n",
       "    <tr>\n",
       "      <th>4</th>\n",
       "      <td>Atlanta Dream</td>\n",
       "      <td>2012</td>\n",
       "      <td>2</td>\n",
       "      <td>0</td>\n",
       "    </tr>\n",
       "    <tr>\n",
       "      <th>5</th>\n",
       "      <td>Atlanta Dream</td>\n",
       "      <td>2013</td>\n",
       "      <td>2</td>\n",
       "      <td>0</td>\n",
       "    </tr>\n",
       "    <tr>\n",
       "      <th>6</th>\n",
       "      <td>Atlanta Dream</td>\n",
       "      <td>2014</td>\n",
       "      <td>3</td>\n",
       "      <td>1</td>\n",
       "    </tr>\n",
       "    <tr>\n",
       "      <th>7</th>\n",
       "      <td>Atlanta Dream</td>\n",
       "      <td>2015</td>\n",
       "      <td>3</td>\n",
       "      <td>1</td>\n",
       "    </tr>\n",
       "    <tr>\n",
       "      <th>8</th>\n",
       "      <td>Atlanta Dream</td>\n",
       "      <td>2016</td>\n",
       "      <td>4</td>\n",
       "      <td>1</td>\n",
       "    </tr>\n",
       "    <tr>\n",
       "      <th>9</th>\n",
       "      <td>Atlanta Dream</td>\n",
       "      <td>2017</td>\n",
       "      <td>3</td>\n",
       "      <td>1</td>\n",
       "    </tr>\n",
       "    <tr>\n",
       "      <th>10</th>\n",
       "      <td>Atlanta Dream</td>\n",
       "      <td>2018</td>\n",
       "      <td>3</td>\n",
       "      <td>0</td>\n",
       "    </tr>\n",
       "    <tr>\n",
       "      <th>11</th>\n",
       "      <td>Atlanta Dream</td>\n",
       "      <td>2019</td>\n",
       "      <td>3</td>\n",
       "      <td>1</td>\n",
       "    </tr>\n",
       "    <tr>\n",
       "      <th>12</th>\n",
       "      <td>Atlanta Dream</td>\n",
       "      <td>2020</td>\n",
       "      <td>4</td>\n",
       "      <td>1</td>\n",
       "    </tr>\n",
       "    <tr>\n",
       "      <th>13</th>\n",
       "      <td>Atlanta Dream</td>\n",
       "      <td>2021</td>\n",
       "      <td>3</td>\n",
       "      <td>1</td>\n",
       "    </tr>\n",
       "    <tr>\n",
       "      <th>14</th>\n",
       "      <td>Atlanta Dream</td>\n",
       "      <td>2022</td>\n",
       "      <td>2</td>\n",
       "      <td>1</td>\n",
       "    </tr>\n",
       "    <tr>\n",
       "      <th>15</th>\n",
       "      <td>Atlanta Dream</td>\n",
       "      <td>2023</td>\n",
       "      <td>3</td>\n",
       "      <td>2</td>\n",
       "    </tr>\n",
       "    <tr>\n",
       "      <th>16</th>\n",
       "      <td>Atlanta Dream</td>\n",
       "      <td>2024</td>\n",
       "      <td>3</td>\n",
       "      <td>1</td>\n",
       "    </tr>\n",
       "    <tr>\n",
       "      <th>17</th>\n",
       "      <td>Charlotte Sting</td>\n",
       "      <td>1997</td>\n",
       "      <td>6</td>\n",
       "      <td>1</td>\n",
       "    </tr>\n",
       "    <tr>\n",
       "      <th>18</th>\n",
       "      <td>Charlotte Sting</td>\n",
       "      <td>1998</td>\n",
       "      <td>4</td>\n",
       "      <td>1</td>\n",
       "    </tr>\n",
       "    <tr>\n",
       "      <th>19</th>\n",
       "      <td>Charlotte Sting</td>\n",
       "      <td>1999</td>\n",
       "      <td>4</td>\n",
       "      <td>1</td>\n",
       "    </tr>\n",
       "    <tr>\n",
       "      <th>20</th>\n",
       "      <td>Charlotte Sting</td>\n",
       "      <td>2000</td>\n",
       "      <td>5</td>\n",
       "      <td>1</td>\n",
       "    </tr>\n",
       "    <tr>\n",
       "      <th>21</th>\n",
       "      <td>Charlotte Sting</td>\n",
       "      <td>2001</td>\n",
       "      <td>4</td>\n",
       "      <td>1</td>\n",
       "    </tr>\n",
       "    <tr>\n",
       "      <th>22</th>\n",
       "      <td>Charlotte Sting</td>\n",
       "      <td>2002</td>\n",
       "      <td>4</td>\n",
       "      <td>2</td>\n",
       "    </tr>\n",
       "    <tr>\n",
       "      <th>23</th>\n",
       "      <td>Charlotte Sting</td>\n",
       "      <td>2003</td>\n",
       "      <td>2</td>\n",
       "      <td>1</td>\n",
       "    </tr>\n",
       "    <tr>\n",
       "      <th>24</th>\n",
       "      <td>Charlotte Sting</td>\n",
       "      <td>2004</td>\n",
       "      <td>4</td>\n",
       "      <td>1</td>\n",
       "    </tr>\n",
       "  </tbody>\n",
       "</table>\n",
       "</div>"
      ],
      "text/plain": [
       "   Trimmed Draft Team  Draft Year  Number_of_Players_Drafted  \\\n",
       "0       Atlanta Dream        2008                          3   \n",
       "1       Atlanta Dream        2009                          3   \n",
       "2       Atlanta Dream        2010                          3   \n",
       "3       Atlanta Dream        2011                          3   \n",
       "4       Atlanta Dream        2012                          2   \n",
       "5       Atlanta Dream        2013                          2   \n",
       "6       Atlanta Dream        2014                          3   \n",
       "7       Atlanta Dream        2015                          3   \n",
       "8       Atlanta Dream        2016                          4   \n",
       "9       Atlanta Dream        2017                          3   \n",
       "10      Atlanta Dream        2018                          3   \n",
       "11      Atlanta Dream        2019                          3   \n",
       "12      Atlanta Dream        2020                          4   \n",
       "13      Atlanta Dream        2021                          3   \n",
       "14      Atlanta Dream        2022                          2   \n",
       "15      Atlanta Dream        2023                          3   \n",
       "16      Atlanta Dream        2024                          3   \n",
       "17    Charlotte Sting        1997                          6   \n",
       "18    Charlotte Sting        1998                          4   \n",
       "19    Charlotte Sting        1999                          4   \n",
       "20    Charlotte Sting        2000                          5   \n",
       "21    Charlotte Sting        2001                          4   \n",
       "22    Charlotte Sting        2002                          4   \n",
       "23    Charlotte Sting        2003                          2   \n",
       "24    Charlotte Sting        2004                          4   \n",
       "\n",
       "    Number_of_First_Round_Drafts  \n",
       "0                              1  \n",
       "1                              1  \n",
       "2                              1  \n",
       "3                              1  \n",
       "4                              0  \n",
       "5                              0  \n",
       "6                              1  \n",
       "7                              1  \n",
       "8                              1  \n",
       "9                              1  \n",
       "10                             0  \n",
       "11                             1  \n",
       "12                             1  \n",
       "13                             1  \n",
       "14                             1  \n",
       "15                             2  \n",
       "16                             1  \n",
       "17                             1  \n",
       "18                             1  \n",
       "19                             1  \n",
       "20                             1  \n",
       "21                             1  \n",
       "22                             2  \n",
       "23                             1  \n",
       "24                             1  "
      ]
     },
     "execution_count": 14,
     "metadata": {},
     "output_type": "execute_result"
    }
   ],
   "source": [
    "team_year_df = draft_df.groupby(['Trimmed Draft Team', 'Draft Year']).agg(\n",
    "    Number_of_Players_Drafted=('Player', 'count'),\n",
    "    Number_of_First_Round_Drafts=('Round', lambda x: (x == 'First').sum())\n",
    ").reset_index()\n",
    "\n",
    "team_year_df.head(n=25)"
   ]
  },
  {
   "cell_type": "code",
   "execution_count": 15,
   "metadata": {},
   "outputs": [
    {
     "data": {
      "text/html": [
       "<div>\n",
       "<style scoped>\n",
       "    .dataframe tbody tr th:only-of-type {\n",
       "        vertical-align: middle;\n",
       "    }\n",
       "\n",
       "    .dataframe tbody tr th {\n",
       "        vertical-align: top;\n",
       "    }\n",
       "\n",
       "    .dataframe thead th {\n",
       "        text-align: right;\n",
       "    }\n",
       "</style>\n",
       "<table border=\"1\" class=\"dataframe\">\n",
       "  <thead>\n",
       "    <tr style=\"text-align: right;\">\n",
       "      <th></th>\n",
       "      <th>Trimmed Draft Team</th>\n",
       "      <th>Draft Year</th>\n",
       "      <th>Number_of_Players_Drafted</th>\n",
       "      <th>Number_of_First_Round_Drafts</th>\n",
       "      <th>TEAM</th>\n",
       "      <th>Year</th>\n",
       "      <th>Ranking</th>\n",
       "      <th>Roster</th>\n",
       "    </tr>\n",
       "  </thead>\n",
       "  <tbody>\n",
       "    <tr>\n",
       "      <th>0</th>\n",
       "      <td>Atlanta Dream</td>\n",
       "      <td>2010</td>\n",
       "      <td>3</td>\n",
       "      <td>1</td>\n",
       "      <td>4. Atlanta Dream - x</td>\n",
       "      <td>2010</td>\n",
       "      <td>4.0</td>\n",
       "      <td>Atlanta Dream</td>\n",
       "    </tr>\n",
       "    <tr>\n",
       "      <th>1</th>\n",
       "      <td>Atlanta Dream</td>\n",
       "      <td>2011</td>\n",
       "      <td>3</td>\n",
       "      <td>1</td>\n",
       "      <td>3. Atlanta Dream - x</td>\n",
       "      <td>2011</td>\n",
       "      <td>3.0</td>\n",
       "      <td>Atlanta Dream</td>\n",
       "    </tr>\n",
       "    <tr>\n",
       "      <th>2</th>\n",
       "      <td>Atlanta Dream</td>\n",
       "      <td>2012</td>\n",
       "      <td>2</td>\n",
       "      <td>0</td>\n",
       "      <td>3. Atlanta Dream - x</td>\n",
       "      <td>2012</td>\n",
       "      <td>3.0</td>\n",
       "      <td>Atlanta Dream</td>\n",
       "    </tr>\n",
       "    <tr>\n",
       "      <th>3</th>\n",
       "      <td>Atlanta Dream</td>\n",
       "      <td>2013</td>\n",
       "      <td>2</td>\n",
       "      <td>0</td>\n",
       "      <td>2. Atlanta Dream - x</td>\n",
       "      <td>2013</td>\n",
       "      <td>2.0</td>\n",
       "      <td>Atlanta Dream</td>\n",
       "    </tr>\n",
       "    <tr>\n",
       "      <th>4</th>\n",
       "      <td>Atlanta Dream</td>\n",
       "      <td>2014</td>\n",
       "      <td>3</td>\n",
       "      <td>1</td>\n",
       "      <td>1. Atlanta Dream - e</td>\n",
       "      <td>2014</td>\n",
       "      <td>1.0</td>\n",
       "      <td>Atlanta Dream</td>\n",
       "    </tr>\n",
       "  </tbody>\n",
       "</table>\n",
       "</div>"
      ],
      "text/plain": [
       "  Trimmed Draft Team  Draft Year  Number_of_Players_Drafted  \\\n",
       "0      Atlanta Dream        2010                          3   \n",
       "1      Atlanta Dream        2011                          3   \n",
       "2      Atlanta Dream        2012                          2   \n",
       "3      Atlanta Dream        2013                          2   \n",
       "4      Atlanta Dream        2014                          3   \n",
       "\n",
       "   Number_of_First_Round_Drafts                  TEAM  Year  Ranking  \\\n",
       "0                             1  4. Atlanta Dream - x  2010      4.0   \n",
       "1                             1  3. Atlanta Dream - x  2011      3.0   \n",
       "2                             0  3. Atlanta Dream - x  2012      3.0   \n",
       "3                             0  2. Atlanta Dream - x  2013      2.0   \n",
       "4                             1  1. Atlanta Dream - e  2014      1.0   \n",
       "\n",
       "          Roster  \n",
       "0  Atlanta Dream  \n",
       "1  Atlanta Dream  \n",
       "2  Atlanta Dream  \n",
       "3  Atlanta Dream  \n",
       "4  Atlanta Dream  "
      ]
     },
     "execution_count": 15,
     "metadata": {},
     "output_type": "execute_result"
    }
   ],
   "source": [
    "team_rankings_df = team_year_df.merge(rankings_df, left_on=['Trimmed Draft Team', 'Draft Year'], right_on=['Roster', 'Year'])\n",
    "team_rankings_df.head()"
   ]
  },
  {
   "cell_type": "code",
   "execution_count": 16,
   "metadata": {},
   "outputs": [
    {
     "data": {
      "text/plain": [
       "(177, 8)"
      ]
     },
     "execution_count": 16,
     "metadata": {},
     "output_type": "execute_result"
    }
   ],
   "source": [
    "team_rankings_df.shape"
   ]
  },
  {
   "cell_type": "code",
   "execution_count": 17,
   "metadata": {},
   "outputs": [
    {
     "data": {
      "text/html": [
       "<div>\n",
       "<style scoped>\n",
       "    .dataframe tbody tr th:only-of-type {\n",
       "        vertical-align: middle;\n",
       "    }\n",
       "\n",
       "    .dataframe tbody tr th {\n",
       "        vertical-align: top;\n",
       "    }\n",
       "\n",
       "    .dataframe thead th {\n",
       "        text-align: right;\n",
       "    }\n",
       "</style>\n",
       "<table border=\"1\" class=\"dataframe\">\n",
       "  <thead>\n",
       "    <tr style=\"text-align: right;\">\n",
       "      <th></th>\n",
       "      <th>Team</th>\n",
       "      <th>Year</th>\n",
       "      <th>Total Draft Picks</th>\n",
       "      <th>Total First Round Draft Picks</th>\n",
       "      <th>Ranking</th>\n",
       "    </tr>\n",
       "  </thead>\n",
       "  <tbody>\n",
       "    <tr>\n",
       "      <th>0</th>\n",
       "      <td>Atlanta Dream</td>\n",
       "      <td>2010</td>\n",
       "      <td>3</td>\n",
       "      <td>1</td>\n",
       "      <td>4.0</td>\n",
       "    </tr>\n",
       "    <tr>\n",
       "      <th>1</th>\n",
       "      <td>Atlanta Dream</td>\n",
       "      <td>2011</td>\n",
       "      <td>3</td>\n",
       "      <td>1</td>\n",
       "      <td>3.0</td>\n",
       "    </tr>\n",
       "    <tr>\n",
       "      <th>2</th>\n",
       "      <td>Atlanta Dream</td>\n",
       "      <td>2012</td>\n",
       "      <td>2</td>\n",
       "      <td>0</td>\n",
       "      <td>3.0</td>\n",
       "    </tr>\n",
       "    <tr>\n",
       "      <th>3</th>\n",
       "      <td>Atlanta Dream</td>\n",
       "      <td>2013</td>\n",
       "      <td>2</td>\n",
       "      <td>0</td>\n",
       "      <td>2.0</td>\n",
       "    </tr>\n",
       "    <tr>\n",
       "      <th>4</th>\n",
       "      <td>Atlanta Dream</td>\n",
       "      <td>2014</td>\n",
       "      <td>3</td>\n",
       "      <td>1</td>\n",
       "      <td>1.0</td>\n",
       "    </tr>\n",
       "  </tbody>\n",
       "</table>\n",
       "</div>"
      ],
      "text/plain": [
       "            Team  Year  Total Draft Picks  Total First Round Draft Picks  \\\n",
       "0  Atlanta Dream  2010                  3                              1   \n",
       "1  Atlanta Dream  2011                  3                              1   \n",
       "2  Atlanta Dream  2012                  2                              0   \n",
       "3  Atlanta Dream  2013                  2                              0   \n",
       "4  Atlanta Dream  2014                  3                              1   \n",
       "\n",
       "   Ranking  \n",
       "0      4.0  \n",
       "1      3.0  \n",
       "2      3.0  \n",
       "3      2.0  \n",
       "4      1.0  "
      ]
     },
     "execution_count": 17,
     "metadata": {},
     "output_type": "execute_result"
    }
   ],
   "source": [
    "team_rankings_df = team_rankings_df.drop(columns=['TEAM', 'Roster', 'Year'])\n",
    "team_rankings_df = team_rankings_df.rename(columns={'Trimmed Draft Team': 'Team', 'Number_of_Players_Drafted': 'Total Draft Picks', 'Number_of_First_Round_Drafts': 'Total First Round Draft Picks', 'Draft Year': 'Year'})\n",
    "team_rankings_df.head()"
   ]
  },
  {
   "cell_type": "code",
   "execution_count": 18,
   "metadata": {},
   "outputs": [
    {
     "data": {
      "text/plain": [
       "numpy.float64"
      ]
     },
     "execution_count": 18,
     "metadata": {},
     "output_type": "execute_result"
    }
   ],
   "source": [
    "type(team_rankings_df['Ranking'][0])"
   ]
  },
  {
   "cell_type": "code",
   "execution_count": 19,
   "metadata": {},
   "outputs": [
    {
     "data": {
      "text/html": [
       "<div>\n",
       "<style scoped>\n",
       "    .dataframe tbody tr th:only-of-type {\n",
       "        vertical-align: middle;\n",
       "    }\n",
       "\n",
       "    .dataframe tbody tr th {\n",
       "        vertical-align: top;\n",
       "    }\n",
       "\n",
       "    .dataframe thead th {\n",
       "        text-align: right;\n",
       "    }\n",
       "</style>\n",
       "<table border=\"1\" class=\"dataframe\">\n",
       "  <thead>\n",
       "    <tr style=\"text-align: right;\">\n",
       "      <th></th>\n",
       "      <th>Team</th>\n",
       "      <th>Year</th>\n",
       "      <th>Total Draft Picks</th>\n",
       "      <th>Total First Round Draft Picks</th>\n",
       "      <th>Ranking</th>\n",
       "    </tr>\n",
       "  </thead>\n",
       "  <tbody>\n",
       "    <tr>\n",
       "      <th>15</th>\n",
       "      <td>Chicago Sky</td>\n",
       "      <td>2010</td>\n",
       "      <td>2</td>\n",
       "      <td>1</td>\n",
       "      <td>NaN</td>\n",
       "    </tr>\n",
       "    <tr>\n",
       "      <th>29</th>\n",
       "      <td>Connecticut Sun</td>\n",
       "      <td>2010</td>\n",
       "      <td>4</td>\n",
       "      <td>2</td>\n",
       "      <td>NaN</td>\n",
       "    </tr>\n",
       "    <tr>\n",
       "      <th>90</th>\n",
       "      <td>Minnesota Lynx</td>\n",
       "      <td>2010</td>\n",
       "      <td>3</td>\n",
       "      <td>2</td>\n",
       "      <td>NaN</td>\n",
       "    </tr>\n",
       "    <tr>\n",
       "      <th>157</th>\n",
       "      <td>Tulsa Shock</td>\n",
       "      <td>2010</td>\n",
       "      <td>2</td>\n",
       "      <td>0</td>\n",
       "      <td>NaN</td>\n",
       "    </tr>\n",
       "  </tbody>\n",
       "</table>\n",
       "</div>"
      ],
      "text/plain": [
       "                Team  Year  Total Draft Picks  Total First Round Draft Picks  \\\n",
       "15       Chicago Sky  2010                  2                              1   \n",
       "29   Connecticut Sun  2010                  4                              2   \n",
       "90    Minnesota Lynx  2010                  3                              2   \n",
       "157      Tulsa Shock  2010                  2                              0   \n",
       "\n",
       "     Ranking  \n",
       "15       NaN  \n",
       "29       NaN  \n",
       "90       NaN  \n",
       "157      NaN  "
      ]
     },
     "execution_count": 19,
     "metadata": {},
     "output_type": "execute_result"
    }
   ],
   "source": [
    "team_rankings_df[team_rankings_df['Ranking'].isna()].head()"
   ]
  },
  {
   "cell_type": "code",
   "execution_count": 20,
   "metadata": {},
   "outputs": [
    {
     "data": {
      "text/html": [
       "<div>\n",
       "<style scoped>\n",
       "    .dataframe tbody tr th:only-of-type {\n",
       "        vertical-align: middle;\n",
       "    }\n",
       "\n",
       "    .dataframe tbody tr th {\n",
       "        vertical-align: top;\n",
       "    }\n",
       "\n",
       "    .dataframe thead th {\n",
       "        text-align: right;\n",
       "    }\n",
       "</style>\n",
       "<table border=\"1\" class=\"dataframe\">\n",
       "  <thead>\n",
       "    <tr style=\"text-align: right;\">\n",
       "      <th></th>\n",
       "      <th>Team</th>\n",
       "      <th>Year</th>\n",
       "      <th>Total Draft Picks</th>\n",
       "      <th>Total First Round Draft Picks</th>\n",
       "      <th>Ranking</th>\n",
       "    </tr>\n",
       "  </thead>\n",
       "  <tbody>\n",
       "  </tbody>\n",
       "</table>\n",
       "</div>"
      ],
      "text/plain": [
       "Empty DataFrame\n",
       "Columns: [Team, Year, Total Draft Picks, Total First Round Draft Picks, Ranking]\n",
       "Index: []"
      ]
     },
     "execution_count": 20,
     "metadata": {},
     "output_type": "execute_result"
    }
   ],
   "source": [
    "team_rankings_df.at[15, \"Ranking\"] = 12.0\n",
    "team_rankings_df.at[29, \"Ranking\"] = 6.0\n",
    "team_rankings_df.at[90, \"Ranking\"] = 3.0\n",
    "team_rankings_df.at[157, \"Ranking\"] = 11.0\n",
    "team_rankings_df[team_rankings_df['Ranking'].isna()].head()"
   ]
  },
  {
   "cell_type": "code",
   "execution_count": 21,
   "metadata": {},
   "outputs": [],
   "source": [
    "team_rankings_df['Ranking'] = team_rankings_df['Ranking'].astype(int)"
   ]
  },
  {
   "cell_type": "code",
   "execution_count": 22,
   "metadata": {},
   "outputs": [
    {
     "data": {
      "text/html": [
       "<div>\n",
       "<style scoped>\n",
       "    .dataframe tbody tr th:only-of-type {\n",
       "        vertical-align: middle;\n",
       "    }\n",
       "\n",
       "    .dataframe tbody tr th {\n",
       "        vertical-align: top;\n",
       "    }\n",
       "\n",
       "    .dataframe thead th {\n",
       "        text-align: right;\n",
       "    }\n",
       "</style>\n",
       "<table border=\"1\" class=\"dataframe\">\n",
       "  <thead>\n",
       "    <tr style=\"text-align: right;\">\n",
       "      <th></th>\n",
       "      <th>Team</th>\n",
       "      <th>Year</th>\n",
       "      <th>Total Draft Picks</th>\n",
       "      <th>Total First Round Draft Picks</th>\n",
       "      <th>Ranking</th>\n",
       "    </tr>\n",
       "  </thead>\n",
       "  <tbody>\n",
       "    <tr>\n",
       "      <th>0</th>\n",
       "      <td>Atlanta Dream</td>\n",
       "      <td>2010</td>\n",
       "      <td>3</td>\n",
       "      <td>1</td>\n",
       "      <td>4</td>\n",
       "    </tr>\n",
       "    <tr>\n",
       "      <th>1</th>\n",
       "      <td>Atlanta Dream</td>\n",
       "      <td>2011</td>\n",
       "      <td>3</td>\n",
       "      <td>1</td>\n",
       "      <td>3</td>\n",
       "    </tr>\n",
       "    <tr>\n",
       "      <th>2</th>\n",
       "      <td>Atlanta Dream</td>\n",
       "      <td>2012</td>\n",
       "      <td>2</td>\n",
       "      <td>0</td>\n",
       "      <td>3</td>\n",
       "    </tr>\n",
       "    <tr>\n",
       "      <th>3</th>\n",
       "      <td>Atlanta Dream</td>\n",
       "      <td>2013</td>\n",
       "      <td>2</td>\n",
       "      <td>0</td>\n",
       "      <td>2</td>\n",
       "    </tr>\n",
       "    <tr>\n",
       "      <th>4</th>\n",
       "      <td>Atlanta Dream</td>\n",
       "      <td>2014</td>\n",
       "      <td>3</td>\n",
       "      <td>1</td>\n",
       "      <td>1</td>\n",
       "    </tr>\n",
       "  </tbody>\n",
       "</table>\n",
       "</div>"
      ],
      "text/plain": [
       "            Team  Year  Total Draft Picks  Total First Round Draft Picks  \\\n",
       "0  Atlanta Dream  2010                  3                              1   \n",
       "1  Atlanta Dream  2011                  3                              1   \n",
       "2  Atlanta Dream  2012                  2                              0   \n",
       "3  Atlanta Dream  2013                  2                              0   \n",
       "4  Atlanta Dream  2014                  3                              1   \n",
       "\n",
       "   Ranking  \n",
       "0        4  \n",
       "1        3  \n",
       "2        3  \n",
       "3        2  \n",
       "4        1  "
      ]
     },
     "execution_count": 22,
     "metadata": {},
     "output_type": "execute_result"
    }
   ],
   "source": [
    "team_rankings_df.head()"
   ]
  },
  {
   "cell_type": "markdown",
   "metadata": {},
   "source": [
    "### Create graphs\n",
    "At this point we have 2 relevant dataframes:\n",
    "- team_rankings_df: for each draft team each year, tells the total number of draft picks, total first round draft picks, and ranking.\n",
    "- draft_df: for each drafted player each year, tells the draft team, college team, and draft year, round, and number."
   ]
  },
  {
   "cell_type": "code",
   "execution_count": 23,
   "metadata": {},
   "outputs": [
    {
     "data": {
      "text/html": [
       "<div>\n",
       "<style scoped>\n",
       "    .dataframe tbody tr th:only-of-type {\n",
       "        vertical-align: middle;\n",
       "    }\n",
       "\n",
       "    .dataframe tbody tr th {\n",
       "        vertical-align: top;\n",
       "    }\n",
       "\n",
       "    .dataframe thead th {\n",
       "        text-align: right;\n",
       "    }\n",
       "</style>\n",
       "<table border=\"1\" class=\"dataframe\">\n",
       "  <thead>\n",
       "    <tr style=\"text-align: right;\">\n",
       "      <th></th>\n",
       "      <th>Team</th>\n",
       "      <th>Year</th>\n",
       "      <th>Total Draft Picks</th>\n",
       "      <th>Total First Round Draft Picks</th>\n",
       "      <th>Ranking</th>\n",
       "    </tr>\n",
       "  </thead>\n",
       "  <tbody>\n",
       "    <tr>\n",
       "      <th>0</th>\n",
       "      <td>Atlanta Dream</td>\n",
       "      <td>2010</td>\n",
       "      <td>3</td>\n",
       "      <td>1</td>\n",
       "      <td>4</td>\n",
       "    </tr>\n",
       "    <tr>\n",
       "      <th>1</th>\n",
       "      <td>Atlanta Dream</td>\n",
       "      <td>2011</td>\n",
       "      <td>3</td>\n",
       "      <td>1</td>\n",
       "      <td>3</td>\n",
       "    </tr>\n",
       "    <tr>\n",
       "      <th>2</th>\n",
       "      <td>Atlanta Dream</td>\n",
       "      <td>2012</td>\n",
       "      <td>2</td>\n",
       "      <td>0</td>\n",
       "      <td>3</td>\n",
       "    </tr>\n",
       "    <tr>\n",
       "      <th>3</th>\n",
       "      <td>Atlanta Dream</td>\n",
       "      <td>2013</td>\n",
       "      <td>2</td>\n",
       "      <td>0</td>\n",
       "      <td>2</td>\n",
       "    </tr>\n",
       "    <tr>\n",
       "      <th>4</th>\n",
       "      <td>Atlanta Dream</td>\n",
       "      <td>2014</td>\n",
       "      <td>3</td>\n",
       "      <td>1</td>\n",
       "      <td>1</td>\n",
       "    </tr>\n",
       "  </tbody>\n",
       "</table>\n",
       "</div>"
      ],
      "text/plain": [
       "            Team  Year  Total Draft Picks  Total First Round Draft Picks  \\\n",
       "0  Atlanta Dream  2010                  3                              1   \n",
       "1  Atlanta Dream  2011                  3                              1   \n",
       "2  Atlanta Dream  2012                  2                              0   \n",
       "3  Atlanta Dream  2013                  2                              0   \n",
       "4  Atlanta Dream  2014                  3                              1   \n",
       "\n",
       "   Ranking  \n",
       "0        4  \n",
       "1        3  \n",
       "2        3  \n",
       "3        2  \n",
       "4        1  "
      ]
     },
     "execution_count": 23,
     "metadata": {},
     "output_type": "execute_result"
    }
   ],
   "source": [
    "team_rankings_df.head()"
   ]
  },
  {
   "cell_type": "code",
   "execution_count": 24,
   "metadata": {},
   "outputs": [
    {
     "data": {
      "text/html": [
       "<div>\n",
       "<style scoped>\n",
       "    .dataframe tbody tr th:only-of-type {\n",
       "        vertical-align: middle;\n",
       "    }\n",
       "\n",
       "    .dataframe tbody tr th {\n",
       "        vertical-align: top;\n",
       "    }\n",
       "\n",
       "    .dataframe thead th {\n",
       "        text-align: right;\n",
       "    }\n",
       "</style>\n",
       "<table border=\"1\" class=\"dataframe\">\n",
       "  <thead>\n",
       "    <tr style=\"text-align: right;\">\n",
       "      <th></th>\n",
       "      <th>Player</th>\n",
       "      <th>Draft Year</th>\n",
       "      <th>Round</th>\n",
       "      <th>Round Number</th>\n",
       "      <th>Pick Number</th>\n",
       "      <th>Draft Team</th>\n",
       "      <th>College Team</th>\n",
       "      <th>Draft Info</th>\n",
       "      <th>Trimmed Draft Team</th>\n",
       "    </tr>\n",
       "  </thead>\n",
       "  <tbody>\n",
       "    <tr>\n",
       "      <th>0</th>\n",
       "      <td>Caitlin Clark</td>\n",
       "      <td>2024</td>\n",
       "      <td>First</td>\n",
       "      <td>1</td>\n",
       "      <td>1</td>\n",
       "      <td>Indiana Fever</td>\n",
       "      <td>Iowa</td>\n",
       "      <td>2024, Round 1, Pick 1</td>\n",
       "      <td>Indiana Fever</td>\n",
       "    </tr>\n",
       "    <tr>\n",
       "      <th>1</th>\n",
       "      <td>Cameron Brink</td>\n",
       "      <td>2024</td>\n",
       "      <td>First</td>\n",
       "      <td>1</td>\n",
       "      <td>2</td>\n",
       "      <td>Los Angeles Sparks</td>\n",
       "      <td>Stanford</td>\n",
       "      <td>2024, Round 1, Pick 2</td>\n",
       "      <td>Los Angeles Sparks</td>\n",
       "    </tr>\n",
       "    <tr>\n",
       "      <th>2</th>\n",
       "      <td>Kamilla Cardoso</td>\n",
       "      <td>2024</td>\n",
       "      <td>First</td>\n",
       "      <td>1</td>\n",
       "      <td>3</td>\n",
       "      <td>Chicago Sky</td>\n",
       "      <td>South Carolina</td>\n",
       "      <td>2024, Round 1, Pick 3</td>\n",
       "      <td>Chicago Sky</td>\n",
       "    </tr>\n",
       "    <tr>\n",
       "      <th>3</th>\n",
       "      <td>Rickea Jackson</td>\n",
       "      <td>2024</td>\n",
       "      <td>First</td>\n",
       "      <td>1</td>\n",
       "      <td>4</td>\n",
       "      <td>Los Angeles Sparks</td>\n",
       "      <td>Tennessee</td>\n",
       "      <td>2024, Round 1, Pick 4</td>\n",
       "      <td>Los Angeles Sparks</td>\n",
       "    </tr>\n",
       "    <tr>\n",
       "      <th>4</th>\n",
       "      <td>Jacy Sheldon</td>\n",
       "      <td>2024</td>\n",
       "      <td>First</td>\n",
       "      <td>1</td>\n",
       "      <td>5</td>\n",
       "      <td>Dallas Wings</td>\n",
       "      <td>Ohio State</td>\n",
       "      <td>2024, Round 1, Pick 5</td>\n",
       "      <td>Dallas Wings</td>\n",
       "    </tr>\n",
       "  </tbody>\n",
       "</table>\n",
       "</div>"
      ],
      "text/plain": [
       "            Player  Draft Year  Round  Round Number  Pick Number  \\\n",
       "0    Caitlin Clark        2024  First             1            1   \n",
       "1    Cameron Brink        2024  First             1            2   \n",
       "2  Kamilla Cardoso        2024  First             1            3   \n",
       "3   Rickea Jackson        2024  First             1            4   \n",
       "4     Jacy Sheldon        2024  First             1            5   \n",
       "\n",
       "           Draft Team    College Team             Draft Info  \\\n",
       "0       Indiana Fever            Iowa  2024, Round 1, Pick 1   \n",
       "1  Los Angeles Sparks        Stanford  2024, Round 1, Pick 2   \n",
       "2         Chicago Sky  South Carolina  2024, Round 1, Pick 3   \n",
       "3  Los Angeles Sparks       Tennessee  2024, Round 1, Pick 4   \n",
       "4        Dallas Wings      Ohio State  2024, Round 1, Pick 5   \n",
       "\n",
       "   Trimmed Draft Team  \n",
       "0       Indiana Fever  \n",
       "1  Los Angeles Sparks  \n",
       "2         Chicago Sky  \n",
       "3  Los Angeles Sparks  \n",
       "4        Dallas Wings  "
      ]
     },
     "execution_count": 24,
     "metadata": {},
     "output_type": "execute_result"
    }
   ],
   "source": [
    "draft_df.head()"
   ]
  },
  {
   "cell_type": "markdown",
   "metadata": {},
   "source": [
    "Will generate graphs just for one team at a time."
   ]
  },
  {
   "cell_type": "code",
   "execution_count": 25,
   "metadata": {},
   "outputs": [
    {
     "data": {
      "application/vnd.plotly.v1+json": {
       "config": {
        "plotlyServerURL": "https://plot.ly"
       },
       "data": [
        {
         "customdata": [
          [
           2010
          ],
          [
           2011
          ],
          [
           2012
          ],
          [
           2013
          ],
          [
           2014
          ],
          [
           2015
          ],
          [
           2016
          ],
          [
           2017
          ],
          [
           2018
          ],
          [
           2019
          ],
          [
           2020
          ],
          [
           2021
          ],
          [
           2022
          ],
          [
           2023
          ],
          [
           2024
          ]
         ],
         "hovertemplate": "Total Draft Picks=%{x}<br>Ranking=%{y}<br>Year=%{customdata[0]}<extra></extra>",
         "legendgroup": "",
         "marker": {
          "color": "#636efa",
          "symbol": "circle"
         },
         "mode": "markers",
         "name": "",
         "orientation": "v",
         "showlegend": false,
         "type": "scatter",
         "x": [
          2,
          2,
          2,
          3,
          3,
          1,
          3,
          4,
          3,
          3,
          3,
          6,
          7,
          5,
          3
         ],
         "xaxis": "x",
         "y": [
          3,
          1,
          2,
          4,
          2,
          3,
          5,
          11,
          12,
          9,
          11,
          12,
          12,
          10,
          6
         ],
         "yaxis": "y"
        },
        {
         "hovertemplate": "<b>OLS trendline</b><br>Ranking = 1.9434 * Total Draft Picks + 0.388679<br>R<sup>2</sup>=0.530111<br><br>Total Draft Picks=%{x}<br>Ranking=%{y} <b>(trend)</b><extra></extra>",
         "legendgroup": "",
         "marker": {
          "color": "#636efa",
          "symbol": "circle"
         },
         "mode": "lines",
         "name": "",
         "showlegend": false,
         "type": "scatter",
         "x": [
          1,
          2,
          2,
          2,
          3,
          3,
          3,
          3,
          3,
          3,
          3,
          4,
          5,
          6,
          7
         ],
         "xaxis": "x",
         "y": [
          2.332075471698113,
          4.275471698113208,
          4.275471698113208,
          4.275471698113208,
          6.218867924528303,
          6.218867924528303,
          6.218867924528303,
          6.218867924528303,
          6.218867924528303,
          6.218867924528303,
          6.218867924528303,
          8.162264150943397,
          10.105660377358493,
          12.049056603773588,
          13.992452830188682
         ],
         "yaxis": "y"
        }
       ],
       "layout": {
        "legend": {
         "tracegroupgap": 0
        },
        "template": {
         "data": {
          "bar": [
           {
            "error_x": {
             "color": "#2a3f5f"
            },
            "error_y": {
             "color": "#2a3f5f"
            },
            "marker": {
             "line": {
              "color": "#E5ECF6",
              "width": 0.5
             },
             "pattern": {
              "fillmode": "overlay",
              "size": 10,
              "solidity": 0.2
             }
            },
            "type": "bar"
           }
          ],
          "barpolar": [
           {
            "marker": {
             "line": {
              "color": "#E5ECF6",
              "width": 0.5
             },
             "pattern": {
              "fillmode": "overlay",
              "size": 10,
              "solidity": 0.2
             }
            },
            "type": "barpolar"
           }
          ],
          "carpet": [
           {
            "aaxis": {
             "endlinecolor": "#2a3f5f",
             "gridcolor": "white",
             "linecolor": "white",
             "minorgridcolor": "white",
             "startlinecolor": "#2a3f5f"
            },
            "baxis": {
             "endlinecolor": "#2a3f5f",
             "gridcolor": "white",
             "linecolor": "white",
             "minorgridcolor": "white",
             "startlinecolor": "#2a3f5f"
            },
            "type": "carpet"
           }
          ],
          "choropleth": [
           {
            "colorbar": {
             "outlinewidth": 0,
             "ticks": ""
            },
            "type": "choropleth"
           }
          ],
          "contour": [
           {
            "colorbar": {
             "outlinewidth": 0,
             "ticks": ""
            },
            "colorscale": [
             [
              0,
              "#0d0887"
             ],
             [
              0.1111111111111111,
              "#46039f"
             ],
             [
              0.2222222222222222,
              "#7201a8"
             ],
             [
              0.3333333333333333,
              "#9c179e"
             ],
             [
              0.4444444444444444,
              "#bd3786"
             ],
             [
              0.5555555555555556,
              "#d8576b"
             ],
             [
              0.6666666666666666,
              "#ed7953"
             ],
             [
              0.7777777777777778,
              "#fb9f3a"
             ],
             [
              0.8888888888888888,
              "#fdca26"
             ],
             [
              1,
              "#f0f921"
             ]
            ],
            "type": "contour"
           }
          ],
          "contourcarpet": [
           {
            "colorbar": {
             "outlinewidth": 0,
             "ticks": ""
            },
            "type": "contourcarpet"
           }
          ],
          "heatmap": [
           {
            "colorbar": {
             "outlinewidth": 0,
             "ticks": ""
            },
            "colorscale": [
             [
              0,
              "#0d0887"
             ],
             [
              0.1111111111111111,
              "#46039f"
             ],
             [
              0.2222222222222222,
              "#7201a8"
             ],
             [
              0.3333333333333333,
              "#9c179e"
             ],
             [
              0.4444444444444444,
              "#bd3786"
             ],
             [
              0.5555555555555556,
              "#d8576b"
             ],
             [
              0.6666666666666666,
              "#ed7953"
             ],
             [
              0.7777777777777778,
              "#fb9f3a"
             ],
             [
              0.8888888888888888,
              "#fdca26"
             ],
             [
              1,
              "#f0f921"
             ]
            ],
            "type": "heatmap"
           }
          ],
          "heatmapgl": [
           {
            "colorbar": {
             "outlinewidth": 0,
             "ticks": ""
            },
            "colorscale": [
             [
              0,
              "#0d0887"
             ],
             [
              0.1111111111111111,
              "#46039f"
             ],
             [
              0.2222222222222222,
              "#7201a8"
             ],
             [
              0.3333333333333333,
              "#9c179e"
             ],
             [
              0.4444444444444444,
              "#bd3786"
             ],
             [
              0.5555555555555556,
              "#d8576b"
             ],
             [
              0.6666666666666666,
              "#ed7953"
             ],
             [
              0.7777777777777778,
              "#fb9f3a"
             ],
             [
              0.8888888888888888,
              "#fdca26"
             ],
             [
              1,
              "#f0f921"
             ]
            ],
            "type": "heatmapgl"
           }
          ],
          "histogram": [
           {
            "marker": {
             "pattern": {
              "fillmode": "overlay",
              "size": 10,
              "solidity": 0.2
             }
            },
            "type": "histogram"
           }
          ],
          "histogram2d": [
           {
            "colorbar": {
             "outlinewidth": 0,
             "ticks": ""
            },
            "colorscale": [
             [
              0,
              "#0d0887"
             ],
             [
              0.1111111111111111,
              "#46039f"
             ],
             [
              0.2222222222222222,
              "#7201a8"
             ],
             [
              0.3333333333333333,
              "#9c179e"
             ],
             [
              0.4444444444444444,
              "#bd3786"
             ],
             [
              0.5555555555555556,
              "#d8576b"
             ],
             [
              0.6666666666666666,
              "#ed7953"
             ],
             [
              0.7777777777777778,
              "#fb9f3a"
             ],
             [
              0.8888888888888888,
              "#fdca26"
             ],
             [
              1,
              "#f0f921"
             ]
            ],
            "type": "histogram2d"
           }
          ],
          "histogram2dcontour": [
           {
            "colorbar": {
             "outlinewidth": 0,
             "ticks": ""
            },
            "colorscale": [
             [
              0,
              "#0d0887"
             ],
             [
              0.1111111111111111,
              "#46039f"
             ],
             [
              0.2222222222222222,
              "#7201a8"
             ],
             [
              0.3333333333333333,
              "#9c179e"
             ],
             [
              0.4444444444444444,
              "#bd3786"
             ],
             [
              0.5555555555555556,
              "#d8576b"
             ],
             [
              0.6666666666666666,
              "#ed7953"
             ],
             [
              0.7777777777777778,
              "#fb9f3a"
             ],
             [
              0.8888888888888888,
              "#fdca26"
             ],
             [
              1,
              "#f0f921"
             ]
            ],
            "type": "histogram2dcontour"
           }
          ],
          "mesh3d": [
           {
            "colorbar": {
             "outlinewidth": 0,
             "ticks": ""
            },
            "type": "mesh3d"
           }
          ],
          "parcoords": [
           {
            "line": {
             "colorbar": {
              "outlinewidth": 0,
              "ticks": ""
             }
            },
            "type": "parcoords"
           }
          ],
          "pie": [
           {
            "automargin": true,
            "type": "pie"
           }
          ],
          "scatter": [
           {
            "fillpattern": {
             "fillmode": "overlay",
             "size": 10,
             "solidity": 0.2
            },
            "type": "scatter"
           }
          ],
          "scatter3d": [
           {
            "line": {
             "colorbar": {
              "outlinewidth": 0,
              "ticks": ""
             }
            },
            "marker": {
             "colorbar": {
              "outlinewidth": 0,
              "ticks": ""
             }
            },
            "type": "scatter3d"
           }
          ],
          "scattercarpet": [
           {
            "marker": {
             "colorbar": {
              "outlinewidth": 0,
              "ticks": ""
             }
            },
            "type": "scattercarpet"
           }
          ],
          "scattergeo": [
           {
            "marker": {
             "colorbar": {
              "outlinewidth": 0,
              "ticks": ""
             }
            },
            "type": "scattergeo"
           }
          ],
          "scattergl": [
           {
            "marker": {
             "colorbar": {
              "outlinewidth": 0,
              "ticks": ""
             }
            },
            "type": "scattergl"
           }
          ],
          "scattermapbox": [
           {
            "marker": {
             "colorbar": {
              "outlinewidth": 0,
              "ticks": ""
             }
            },
            "type": "scattermapbox"
           }
          ],
          "scatterpolar": [
           {
            "marker": {
             "colorbar": {
              "outlinewidth": 0,
              "ticks": ""
             }
            },
            "type": "scatterpolar"
           }
          ],
          "scatterpolargl": [
           {
            "marker": {
             "colorbar": {
              "outlinewidth": 0,
              "ticks": ""
             }
            },
            "type": "scatterpolargl"
           }
          ],
          "scatterternary": [
           {
            "marker": {
             "colorbar": {
              "outlinewidth": 0,
              "ticks": ""
             }
            },
            "type": "scatterternary"
           }
          ],
          "surface": [
           {
            "colorbar": {
             "outlinewidth": 0,
             "ticks": ""
            },
            "colorscale": [
             [
              0,
              "#0d0887"
             ],
             [
              0.1111111111111111,
              "#46039f"
             ],
             [
              0.2222222222222222,
              "#7201a8"
             ],
             [
              0.3333333333333333,
              "#9c179e"
             ],
             [
              0.4444444444444444,
              "#bd3786"
             ],
             [
              0.5555555555555556,
              "#d8576b"
             ],
             [
              0.6666666666666666,
              "#ed7953"
             ],
             [
              0.7777777777777778,
              "#fb9f3a"
             ],
             [
              0.8888888888888888,
              "#fdca26"
             ],
             [
              1,
              "#f0f921"
             ]
            ],
            "type": "surface"
           }
          ],
          "table": [
           {
            "cells": {
             "fill": {
              "color": "#EBF0F8"
             },
             "line": {
              "color": "white"
             }
            },
            "header": {
             "fill": {
              "color": "#C8D4E3"
             },
             "line": {
              "color": "white"
             }
            },
            "type": "table"
           }
          ]
         },
         "layout": {
          "annotationdefaults": {
           "arrowcolor": "#2a3f5f",
           "arrowhead": 0,
           "arrowwidth": 1
          },
          "autotypenumbers": "strict",
          "coloraxis": {
           "colorbar": {
            "outlinewidth": 0,
            "ticks": ""
           }
          },
          "colorscale": {
           "diverging": [
            [
             0,
             "#8e0152"
            ],
            [
             0.1,
             "#c51b7d"
            ],
            [
             0.2,
             "#de77ae"
            ],
            [
             0.3,
             "#f1b6da"
            ],
            [
             0.4,
             "#fde0ef"
            ],
            [
             0.5,
             "#f7f7f7"
            ],
            [
             0.6,
             "#e6f5d0"
            ],
            [
             0.7,
             "#b8e186"
            ],
            [
             0.8,
             "#7fbc41"
            ],
            [
             0.9,
             "#4d9221"
            ],
            [
             1,
             "#276419"
            ]
           ],
           "sequential": [
            [
             0,
             "#0d0887"
            ],
            [
             0.1111111111111111,
             "#46039f"
            ],
            [
             0.2222222222222222,
             "#7201a8"
            ],
            [
             0.3333333333333333,
             "#9c179e"
            ],
            [
             0.4444444444444444,
             "#bd3786"
            ],
            [
             0.5555555555555556,
             "#d8576b"
            ],
            [
             0.6666666666666666,
             "#ed7953"
            ],
            [
             0.7777777777777778,
             "#fb9f3a"
            ],
            [
             0.8888888888888888,
             "#fdca26"
            ],
            [
             1,
             "#f0f921"
            ]
           ],
           "sequentialminus": [
            [
             0,
             "#0d0887"
            ],
            [
             0.1111111111111111,
             "#46039f"
            ],
            [
             0.2222222222222222,
             "#7201a8"
            ],
            [
             0.3333333333333333,
             "#9c179e"
            ],
            [
             0.4444444444444444,
             "#bd3786"
            ],
            [
             0.5555555555555556,
             "#d8576b"
            ],
            [
             0.6666666666666666,
             "#ed7953"
            ],
            [
             0.7777777777777778,
             "#fb9f3a"
            ],
            [
             0.8888888888888888,
             "#fdca26"
            ],
            [
             1,
             "#f0f921"
            ]
           ]
          },
          "colorway": [
           "#636efa",
           "#EF553B",
           "#00cc96",
           "#ab63fa",
           "#FFA15A",
           "#19d3f3",
           "#FF6692",
           "#B6E880",
           "#FF97FF",
           "#FECB52"
          ],
          "font": {
           "color": "#2a3f5f"
          },
          "geo": {
           "bgcolor": "white",
           "lakecolor": "white",
           "landcolor": "#E5ECF6",
           "showlakes": true,
           "showland": true,
           "subunitcolor": "white"
          },
          "hoverlabel": {
           "align": "left"
          },
          "hovermode": "closest",
          "mapbox": {
           "style": "light"
          },
          "paper_bgcolor": "white",
          "plot_bgcolor": "#E5ECF6",
          "polar": {
           "angularaxis": {
            "gridcolor": "white",
            "linecolor": "white",
            "ticks": ""
           },
           "bgcolor": "#E5ECF6",
           "radialaxis": {
            "gridcolor": "white",
            "linecolor": "white",
            "ticks": ""
           }
          },
          "scene": {
           "xaxis": {
            "backgroundcolor": "#E5ECF6",
            "gridcolor": "white",
            "gridwidth": 2,
            "linecolor": "white",
            "showbackground": true,
            "ticks": "",
            "zerolinecolor": "white"
           },
           "yaxis": {
            "backgroundcolor": "#E5ECF6",
            "gridcolor": "white",
            "gridwidth": 2,
            "linecolor": "white",
            "showbackground": true,
            "ticks": "",
            "zerolinecolor": "white"
           },
           "zaxis": {
            "backgroundcolor": "#E5ECF6",
            "gridcolor": "white",
            "gridwidth": 2,
            "linecolor": "white",
            "showbackground": true,
            "ticks": "",
            "zerolinecolor": "white"
           }
          },
          "shapedefaults": {
           "line": {
            "color": "#2a3f5f"
           }
          },
          "ternary": {
           "aaxis": {
            "gridcolor": "white",
            "linecolor": "white",
            "ticks": ""
           },
           "baxis": {
            "gridcolor": "white",
            "linecolor": "white",
            "ticks": ""
           },
           "bgcolor": "#E5ECF6",
           "caxis": {
            "gridcolor": "white",
            "linecolor": "white",
            "ticks": ""
           }
          },
          "title": {
           "x": 0.05
          },
          "xaxis": {
           "automargin": true,
           "gridcolor": "white",
           "linecolor": "white",
           "ticks": "",
           "title": {
            "standoff": 15
           },
           "zerolinecolor": "white",
           "zerolinewidth": 2
          },
          "yaxis": {
           "automargin": true,
           "gridcolor": "white",
           "linecolor": "white",
           "ticks": "",
           "title": {
            "standoff": 15
           },
           "zerolinecolor": "white",
           "zerolinewidth": 2
          }
         }
        },
        "title": {
         "text": "Ranking over Total Draft Picks: Indiana Fever"
        },
        "xaxis": {
         "anchor": "y",
         "domain": [
          0,
          1
         ],
         "title": {
          "text": "Total Draft Picks"
         }
        },
        "yaxis": {
         "anchor": "x",
         "domain": [
          0,
          1
         ],
         "title": {
          "text": "Ranking"
         }
        }
       }
      }
     },
     "metadata": {},
     "output_type": "display_data"
    },
    {
     "data": {
      "application/vnd.plotly.v1+json": {
       "config": {
        "plotlyServerURL": "https://plot.ly"
       },
       "data": [
        {
         "customdata": [
          [
           2010
          ],
          [
           2011
          ],
          [
           2012
          ],
          [
           2013
          ],
          [
           2014
          ],
          [
           2015
          ],
          [
           2016
          ],
          [
           2017
          ],
          [
           2018
          ],
          [
           2019
          ],
          [
           2020
          ],
          [
           2021
          ],
          [
           2022
          ],
          [
           2023
          ],
          [
           2024
          ]
         ],
         "hovertemplate": "Total First Round Draft Picks=%{x}<br>Ranking=%{y}<br>Year=%{customdata[0]}<extra></extra>",
         "legendgroup": "",
         "marker": {
          "color": "#636efa",
          "symbol": "circle"
         },
         "mode": "markers",
         "name": "",
         "orientation": "v",
         "showlegend": false,
         "type": "scatter",
         "x": [
          1,
          1,
          1,
          1,
          2,
          0,
          1,
          0,
          2,
          1,
          1,
          1,
          4,
          2,
          1
         ],
         "xaxis": "x",
         "y": [
          3,
          1,
          2,
          4,
          2,
          3,
          5,
          11,
          12,
          9,
          11,
          12,
          12,
          10,
          6
         ],
         "yaxis": "y"
        },
        {
         "hovertemplate": "<b>OLS trendline</b><br>Ranking = 1.43299 * Total First Round Draft Picks + 5.05155<br>R<sup>2</sup>=0.105501<br><br>Total First Round Draft Picks=%{x}<br>Ranking=%{y} <b>(trend)</b><extra></extra>",
         "legendgroup": "",
         "marker": {
          "color": "#636efa",
          "symbol": "circle"
         },
         "mode": "lines",
         "name": "",
         "showlegend": false,
         "type": "scatter",
         "x": [
          0,
          0,
          1,
          1,
          1,
          1,
          1,
          1,
          1,
          1,
          1,
          2,
          2,
          2,
          4
         ],
         "xaxis": "x",
         "y": [
          5.051546391752576,
          5.051546391752576,
          6.484536082474224,
          6.484536082474224,
          6.484536082474224,
          6.484536082474224,
          6.484536082474224,
          6.484536082474224,
          6.484536082474224,
          6.484536082474224,
          6.484536082474224,
          7.917525773195872,
          7.917525773195872,
          7.917525773195872,
          10.783505154639169
         ],
         "yaxis": "y"
        }
       ],
       "layout": {
        "legend": {
         "tracegroupgap": 0
        },
        "template": {
         "data": {
          "bar": [
           {
            "error_x": {
             "color": "#2a3f5f"
            },
            "error_y": {
             "color": "#2a3f5f"
            },
            "marker": {
             "line": {
              "color": "#E5ECF6",
              "width": 0.5
             },
             "pattern": {
              "fillmode": "overlay",
              "size": 10,
              "solidity": 0.2
             }
            },
            "type": "bar"
           }
          ],
          "barpolar": [
           {
            "marker": {
             "line": {
              "color": "#E5ECF6",
              "width": 0.5
             },
             "pattern": {
              "fillmode": "overlay",
              "size": 10,
              "solidity": 0.2
             }
            },
            "type": "barpolar"
           }
          ],
          "carpet": [
           {
            "aaxis": {
             "endlinecolor": "#2a3f5f",
             "gridcolor": "white",
             "linecolor": "white",
             "minorgridcolor": "white",
             "startlinecolor": "#2a3f5f"
            },
            "baxis": {
             "endlinecolor": "#2a3f5f",
             "gridcolor": "white",
             "linecolor": "white",
             "minorgridcolor": "white",
             "startlinecolor": "#2a3f5f"
            },
            "type": "carpet"
           }
          ],
          "choropleth": [
           {
            "colorbar": {
             "outlinewidth": 0,
             "ticks": ""
            },
            "type": "choropleth"
           }
          ],
          "contour": [
           {
            "colorbar": {
             "outlinewidth": 0,
             "ticks": ""
            },
            "colorscale": [
             [
              0,
              "#0d0887"
             ],
             [
              0.1111111111111111,
              "#46039f"
             ],
             [
              0.2222222222222222,
              "#7201a8"
             ],
             [
              0.3333333333333333,
              "#9c179e"
             ],
             [
              0.4444444444444444,
              "#bd3786"
             ],
             [
              0.5555555555555556,
              "#d8576b"
             ],
             [
              0.6666666666666666,
              "#ed7953"
             ],
             [
              0.7777777777777778,
              "#fb9f3a"
             ],
             [
              0.8888888888888888,
              "#fdca26"
             ],
             [
              1,
              "#f0f921"
             ]
            ],
            "type": "contour"
           }
          ],
          "contourcarpet": [
           {
            "colorbar": {
             "outlinewidth": 0,
             "ticks": ""
            },
            "type": "contourcarpet"
           }
          ],
          "heatmap": [
           {
            "colorbar": {
             "outlinewidth": 0,
             "ticks": ""
            },
            "colorscale": [
             [
              0,
              "#0d0887"
             ],
             [
              0.1111111111111111,
              "#46039f"
             ],
             [
              0.2222222222222222,
              "#7201a8"
             ],
             [
              0.3333333333333333,
              "#9c179e"
             ],
             [
              0.4444444444444444,
              "#bd3786"
             ],
             [
              0.5555555555555556,
              "#d8576b"
             ],
             [
              0.6666666666666666,
              "#ed7953"
             ],
             [
              0.7777777777777778,
              "#fb9f3a"
             ],
             [
              0.8888888888888888,
              "#fdca26"
             ],
             [
              1,
              "#f0f921"
             ]
            ],
            "type": "heatmap"
           }
          ],
          "heatmapgl": [
           {
            "colorbar": {
             "outlinewidth": 0,
             "ticks": ""
            },
            "colorscale": [
             [
              0,
              "#0d0887"
             ],
             [
              0.1111111111111111,
              "#46039f"
             ],
             [
              0.2222222222222222,
              "#7201a8"
             ],
             [
              0.3333333333333333,
              "#9c179e"
             ],
             [
              0.4444444444444444,
              "#bd3786"
             ],
             [
              0.5555555555555556,
              "#d8576b"
             ],
             [
              0.6666666666666666,
              "#ed7953"
             ],
             [
              0.7777777777777778,
              "#fb9f3a"
             ],
             [
              0.8888888888888888,
              "#fdca26"
             ],
             [
              1,
              "#f0f921"
             ]
            ],
            "type": "heatmapgl"
           }
          ],
          "histogram": [
           {
            "marker": {
             "pattern": {
              "fillmode": "overlay",
              "size": 10,
              "solidity": 0.2
             }
            },
            "type": "histogram"
           }
          ],
          "histogram2d": [
           {
            "colorbar": {
             "outlinewidth": 0,
             "ticks": ""
            },
            "colorscale": [
             [
              0,
              "#0d0887"
             ],
             [
              0.1111111111111111,
              "#46039f"
             ],
             [
              0.2222222222222222,
              "#7201a8"
             ],
             [
              0.3333333333333333,
              "#9c179e"
             ],
             [
              0.4444444444444444,
              "#bd3786"
             ],
             [
              0.5555555555555556,
              "#d8576b"
             ],
             [
              0.6666666666666666,
              "#ed7953"
             ],
             [
              0.7777777777777778,
              "#fb9f3a"
             ],
             [
              0.8888888888888888,
              "#fdca26"
             ],
             [
              1,
              "#f0f921"
             ]
            ],
            "type": "histogram2d"
           }
          ],
          "histogram2dcontour": [
           {
            "colorbar": {
             "outlinewidth": 0,
             "ticks": ""
            },
            "colorscale": [
             [
              0,
              "#0d0887"
             ],
             [
              0.1111111111111111,
              "#46039f"
             ],
             [
              0.2222222222222222,
              "#7201a8"
             ],
             [
              0.3333333333333333,
              "#9c179e"
             ],
             [
              0.4444444444444444,
              "#bd3786"
             ],
             [
              0.5555555555555556,
              "#d8576b"
             ],
             [
              0.6666666666666666,
              "#ed7953"
             ],
             [
              0.7777777777777778,
              "#fb9f3a"
             ],
             [
              0.8888888888888888,
              "#fdca26"
             ],
             [
              1,
              "#f0f921"
             ]
            ],
            "type": "histogram2dcontour"
           }
          ],
          "mesh3d": [
           {
            "colorbar": {
             "outlinewidth": 0,
             "ticks": ""
            },
            "type": "mesh3d"
           }
          ],
          "parcoords": [
           {
            "line": {
             "colorbar": {
              "outlinewidth": 0,
              "ticks": ""
             }
            },
            "type": "parcoords"
           }
          ],
          "pie": [
           {
            "automargin": true,
            "type": "pie"
           }
          ],
          "scatter": [
           {
            "fillpattern": {
             "fillmode": "overlay",
             "size": 10,
             "solidity": 0.2
            },
            "type": "scatter"
           }
          ],
          "scatter3d": [
           {
            "line": {
             "colorbar": {
              "outlinewidth": 0,
              "ticks": ""
             }
            },
            "marker": {
             "colorbar": {
              "outlinewidth": 0,
              "ticks": ""
             }
            },
            "type": "scatter3d"
           }
          ],
          "scattercarpet": [
           {
            "marker": {
             "colorbar": {
              "outlinewidth": 0,
              "ticks": ""
             }
            },
            "type": "scattercarpet"
           }
          ],
          "scattergeo": [
           {
            "marker": {
             "colorbar": {
              "outlinewidth": 0,
              "ticks": ""
             }
            },
            "type": "scattergeo"
           }
          ],
          "scattergl": [
           {
            "marker": {
             "colorbar": {
              "outlinewidth": 0,
              "ticks": ""
             }
            },
            "type": "scattergl"
           }
          ],
          "scattermapbox": [
           {
            "marker": {
             "colorbar": {
              "outlinewidth": 0,
              "ticks": ""
             }
            },
            "type": "scattermapbox"
           }
          ],
          "scatterpolar": [
           {
            "marker": {
             "colorbar": {
              "outlinewidth": 0,
              "ticks": ""
             }
            },
            "type": "scatterpolar"
           }
          ],
          "scatterpolargl": [
           {
            "marker": {
             "colorbar": {
              "outlinewidth": 0,
              "ticks": ""
             }
            },
            "type": "scatterpolargl"
           }
          ],
          "scatterternary": [
           {
            "marker": {
             "colorbar": {
              "outlinewidth": 0,
              "ticks": ""
             }
            },
            "type": "scatterternary"
           }
          ],
          "surface": [
           {
            "colorbar": {
             "outlinewidth": 0,
             "ticks": ""
            },
            "colorscale": [
             [
              0,
              "#0d0887"
             ],
             [
              0.1111111111111111,
              "#46039f"
             ],
             [
              0.2222222222222222,
              "#7201a8"
             ],
             [
              0.3333333333333333,
              "#9c179e"
             ],
             [
              0.4444444444444444,
              "#bd3786"
             ],
             [
              0.5555555555555556,
              "#d8576b"
             ],
             [
              0.6666666666666666,
              "#ed7953"
             ],
             [
              0.7777777777777778,
              "#fb9f3a"
             ],
             [
              0.8888888888888888,
              "#fdca26"
             ],
             [
              1,
              "#f0f921"
             ]
            ],
            "type": "surface"
           }
          ],
          "table": [
           {
            "cells": {
             "fill": {
              "color": "#EBF0F8"
             },
             "line": {
              "color": "white"
             }
            },
            "header": {
             "fill": {
              "color": "#C8D4E3"
             },
             "line": {
              "color": "white"
             }
            },
            "type": "table"
           }
          ]
         },
         "layout": {
          "annotationdefaults": {
           "arrowcolor": "#2a3f5f",
           "arrowhead": 0,
           "arrowwidth": 1
          },
          "autotypenumbers": "strict",
          "coloraxis": {
           "colorbar": {
            "outlinewidth": 0,
            "ticks": ""
           }
          },
          "colorscale": {
           "diverging": [
            [
             0,
             "#8e0152"
            ],
            [
             0.1,
             "#c51b7d"
            ],
            [
             0.2,
             "#de77ae"
            ],
            [
             0.3,
             "#f1b6da"
            ],
            [
             0.4,
             "#fde0ef"
            ],
            [
             0.5,
             "#f7f7f7"
            ],
            [
             0.6,
             "#e6f5d0"
            ],
            [
             0.7,
             "#b8e186"
            ],
            [
             0.8,
             "#7fbc41"
            ],
            [
             0.9,
             "#4d9221"
            ],
            [
             1,
             "#276419"
            ]
           ],
           "sequential": [
            [
             0,
             "#0d0887"
            ],
            [
             0.1111111111111111,
             "#46039f"
            ],
            [
             0.2222222222222222,
             "#7201a8"
            ],
            [
             0.3333333333333333,
             "#9c179e"
            ],
            [
             0.4444444444444444,
             "#bd3786"
            ],
            [
             0.5555555555555556,
             "#d8576b"
            ],
            [
             0.6666666666666666,
             "#ed7953"
            ],
            [
             0.7777777777777778,
             "#fb9f3a"
            ],
            [
             0.8888888888888888,
             "#fdca26"
            ],
            [
             1,
             "#f0f921"
            ]
           ],
           "sequentialminus": [
            [
             0,
             "#0d0887"
            ],
            [
             0.1111111111111111,
             "#46039f"
            ],
            [
             0.2222222222222222,
             "#7201a8"
            ],
            [
             0.3333333333333333,
             "#9c179e"
            ],
            [
             0.4444444444444444,
             "#bd3786"
            ],
            [
             0.5555555555555556,
             "#d8576b"
            ],
            [
             0.6666666666666666,
             "#ed7953"
            ],
            [
             0.7777777777777778,
             "#fb9f3a"
            ],
            [
             0.8888888888888888,
             "#fdca26"
            ],
            [
             1,
             "#f0f921"
            ]
           ]
          },
          "colorway": [
           "#636efa",
           "#EF553B",
           "#00cc96",
           "#ab63fa",
           "#FFA15A",
           "#19d3f3",
           "#FF6692",
           "#B6E880",
           "#FF97FF",
           "#FECB52"
          ],
          "font": {
           "color": "#2a3f5f"
          },
          "geo": {
           "bgcolor": "white",
           "lakecolor": "white",
           "landcolor": "#E5ECF6",
           "showlakes": true,
           "showland": true,
           "subunitcolor": "white"
          },
          "hoverlabel": {
           "align": "left"
          },
          "hovermode": "closest",
          "mapbox": {
           "style": "light"
          },
          "paper_bgcolor": "white",
          "plot_bgcolor": "#E5ECF6",
          "polar": {
           "angularaxis": {
            "gridcolor": "white",
            "linecolor": "white",
            "ticks": ""
           },
           "bgcolor": "#E5ECF6",
           "radialaxis": {
            "gridcolor": "white",
            "linecolor": "white",
            "ticks": ""
           }
          },
          "scene": {
           "xaxis": {
            "backgroundcolor": "#E5ECF6",
            "gridcolor": "white",
            "gridwidth": 2,
            "linecolor": "white",
            "showbackground": true,
            "ticks": "",
            "zerolinecolor": "white"
           },
           "yaxis": {
            "backgroundcolor": "#E5ECF6",
            "gridcolor": "white",
            "gridwidth": 2,
            "linecolor": "white",
            "showbackground": true,
            "ticks": "",
            "zerolinecolor": "white"
           },
           "zaxis": {
            "backgroundcolor": "#E5ECF6",
            "gridcolor": "white",
            "gridwidth": 2,
            "linecolor": "white",
            "showbackground": true,
            "ticks": "",
            "zerolinecolor": "white"
           }
          },
          "shapedefaults": {
           "line": {
            "color": "#2a3f5f"
           }
          },
          "ternary": {
           "aaxis": {
            "gridcolor": "white",
            "linecolor": "white",
            "ticks": ""
           },
           "baxis": {
            "gridcolor": "white",
            "linecolor": "white",
            "ticks": ""
           },
           "bgcolor": "#E5ECF6",
           "caxis": {
            "gridcolor": "white",
            "linecolor": "white",
            "ticks": ""
           }
          },
          "title": {
           "x": 0.05
          },
          "xaxis": {
           "automargin": true,
           "gridcolor": "white",
           "linecolor": "white",
           "ticks": "",
           "title": {
            "standoff": 15
           },
           "zerolinecolor": "white",
           "zerolinewidth": 2
          },
          "yaxis": {
           "automargin": true,
           "gridcolor": "white",
           "linecolor": "white",
           "ticks": "",
           "title": {
            "standoff": 15
           },
           "zerolinecolor": "white",
           "zerolinewidth": 2
          }
         }
        },
        "title": {
         "text": "Ranking over Total First Round Draft Picks: Indiana Fever"
        },
        "xaxis": {
         "anchor": "y",
         "domain": [
          0,
          1
         ],
         "title": {
          "text": "Total First Round Draft Picks"
         }
        },
        "yaxis": {
         "anchor": "x",
         "domain": [
          0,
          1
         ],
         "title": {
          "text": "Ranking"
         }
        }
       }
      }
     },
     "metadata": {},
     "output_type": "display_data"
    }
   ],
   "source": [
    "team = 'Indiana Fever'\n",
    "rankings_df_by_team = team_rankings_df[team_rankings_df['Team'] == team]\n",
    "\n",
    "all_draft_picks = px.scatter(rankings_df_by_team, x='Total Draft Picks', y='Ranking', trendline='ols', title=f'Ranking over Total Draft Picks: {team}', hover_data=['Year', 'Ranking', 'Total Draft Picks'])\n",
    "all_draft_picks.show()\n",
    "\n",
    "first_round_draft_picks = px.scatter(rankings_df_by_team, x='Total First Round Draft Picks', y='Ranking', trendline='ols', title=f'Ranking over Total First Round Draft Picks: {team}', hover_data=['Year', 'Ranking', 'Total First Round Draft Picks'])\n",
    "first_round_draft_picks.show()"
   ]
  },
  {
   "cell_type": "code",
   "execution_count": 26,
   "metadata": {},
   "outputs": [
    {
     "data": {
      "application/vnd.plotly.v1+json": {
       "config": {
        "plotlyServerURL": "https://plot.ly"
       },
       "data": [
        {
         "customdata": [
          [
           2
          ],
          [
           2
          ],
          [
           2
          ],
          [
           3
          ],
          [
           3
          ],
          [
           1
          ],
          [
           3
          ],
          [
           4
          ],
          [
           3
          ],
          [
           3
          ],
          [
           3
          ],
          [
           6
          ],
          [
           7
          ],
          [
           5
          ],
          [
           3
          ]
         ],
         "hovertemplate": "Year=%{x}<br>Ranking=%{y}<br>Total Draft Picks=%{customdata[0]}<extra></extra>",
         "legendgroup": "",
         "line": {
          "color": "#636efa",
          "dash": "solid"
         },
         "marker": {
          "symbol": "circle"
         },
         "mode": "lines+markers",
         "name": "",
         "orientation": "v",
         "showlegend": false,
         "type": "scatter",
         "x": [
          2010,
          2011,
          2012,
          2013,
          2014,
          2015,
          2016,
          2017,
          2018,
          2019,
          2020,
          2021,
          2022,
          2023,
          2024
         ],
         "xaxis": "x",
         "y": [
          3,
          1,
          2,
          4,
          2,
          3,
          5,
          11,
          12,
          9,
          11,
          12,
          12,
          10,
          6
         ],
         "yaxis": "y"
        }
       ],
       "layout": {
        "legend": {
         "tracegroupgap": 0
        },
        "template": {
         "data": {
          "bar": [
           {
            "error_x": {
             "color": "#2a3f5f"
            },
            "error_y": {
             "color": "#2a3f5f"
            },
            "marker": {
             "line": {
              "color": "#E5ECF6",
              "width": 0.5
             },
             "pattern": {
              "fillmode": "overlay",
              "size": 10,
              "solidity": 0.2
             }
            },
            "type": "bar"
           }
          ],
          "barpolar": [
           {
            "marker": {
             "line": {
              "color": "#E5ECF6",
              "width": 0.5
             },
             "pattern": {
              "fillmode": "overlay",
              "size": 10,
              "solidity": 0.2
             }
            },
            "type": "barpolar"
           }
          ],
          "carpet": [
           {
            "aaxis": {
             "endlinecolor": "#2a3f5f",
             "gridcolor": "white",
             "linecolor": "white",
             "minorgridcolor": "white",
             "startlinecolor": "#2a3f5f"
            },
            "baxis": {
             "endlinecolor": "#2a3f5f",
             "gridcolor": "white",
             "linecolor": "white",
             "minorgridcolor": "white",
             "startlinecolor": "#2a3f5f"
            },
            "type": "carpet"
           }
          ],
          "choropleth": [
           {
            "colorbar": {
             "outlinewidth": 0,
             "ticks": ""
            },
            "type": "choropleth"
           }
          ],
          "contour": [
           {
            "colorbar": {
             "outlinewidth": 0,
             "ticks": ""
            },
            "colorscale": [
             [
              0,
              "#0d0887"
             ],
             [
              0.1111111111111111,
              "#46039f"
             ],
             [
              0.2222222222222222,
              "#7201a8"
             ],
             [
              0.3333333333333333,
              "#9c179e"
             ],
             [
              0.4444444444444444,
              "#bd3786"
             ],
             [
              0.5555555555555556,
              "#d8576b"
             ],
             [
              0.6666666666666666,
              "#ed7953"
             ],
             [
              0.7777777777777778,
              "#fb9f3a"
             ],
             [
              0.8888888888888888,
              "#fdca26"
             ],
             [
              1,
              "#f0f921"
             ]
            ],
            "type": "contour"
           }
          ],
          "contourcarpet": [
           {
            "colorbar": {
             "outlinewidth": 0,
             "ticks": ""
            },
            "type": "contourcarpet"
           }
          ],
          "heatmap": [
           {
            "colorbar": {
             "outlinewidth": 0,
             "ticks": ""
            },
            "colorscale": [
             [
              0,
              "#0d0887"
             ],
             [
              0.1111111111111111,
              "#46039f"
             ],
             [
              0.2222222222222222,
              "#7201a8"
             ],
             [
              0.3333333333333333,
              "#9c179e"
             ],
             [
              0.4444444444444444,
              "#bd3786"
             ],
             [
              0.5555555555555556,
              "#d8576b"
             ],
             [
              0.6666666666666666,
              "#ed7953"
             ],
             [
              0.7777777777777778,
              "#fb9f3a"
             ],
             [
              0.8888888888888888,
              "#fdca26"
             ],
             [
              1,
              "#f0f921"
             ]
            ],
            "type": "heatmap"
           }
          ],
          "heatmapgl": [
           {
            "colorbar": {
             "outlinewidth": 0,
             "ticks": ""
            },
            "colorscale": [
             [
              0,
              "#0d0887"
             ],
             [
              0.1111111111111111,
              "#46039f"
             ],
             [
              0.2222222222222222,
              "#7201a8"
             ],
             [
              0.3333333333333333,
              "#9c179e"
             ],
             [
              0.4444444444444444,
              "#bd3786"
             ],
             [
              0.5555555555555556,
              "#d8576b"
             ],
             [
              0.6666666666666666,
              "#ed7953"
             ],
             [
              0.7777777777777778,
              "#fb9f3a"
             ],
             [
              0.8888888888888888,
              "#fdca26"
             ],
             [
              1,
              "#f0f921"
             ]
            ],
            "type": "heatmapgl"
           }
          ],
          "histogram": [
           {
            "marker": {
             "pattern": {
              "fillmode": "overlay",
              "size": 10,
              "solidity": 0.2
             }
            },
            "type": "histogram"
           }
          ],
          "histogram2d": [
           {
            "colorbar": {
             "outlinewidth": 0,
             "ticks": ""
            },
            "colorscale": [
             [
              0,
              "#0d0887"
             ],
             [
              0.1111111111111111,
              "#46039f"
             ],
             [
              0.2222222222222222,
              "#7201a8"
             ],
             [
              0.3333333333333333,
              "#9c179e"
             ],
             [
              0.4444444444444444,
              "#bd3786"
             ],
             [
              0.5555555555555556,
              "#d8576b"
             ],
             [
              0.6666666666666666,
              "#ed7953"
             ],
             [
              0.7777777777777778,
              "#fb9f3a"
             ],
             [
              0.8888888888888888,
              "#fdca26"
             ],
             [
              1,
              "#f0f921"
             ]
            ],
            "type": "histogram2d"
           }
          ],
          "histogram2dcontour": [
           {
            "colorbar": {
             "outlinewidth": 0,
             "ticks": ""
            },
            "colorscale": [
             [
              0,
              "#0d0887"
             ],
             [
              0.1111111111111111,
              "#46039f"
             ],
             [
              0.2222222222222222,
              "#7201a8"
             ],
             [
              0.3333333333333333,
              "#9c179e"
             ],
             [
              0.4444444444444444,
              "#bd3786"
             ],
             [
              0.5555555555555556,
              "#d8576b"
             ],
             [
              0.6666666666666666,
              "#ed7953"
             ],
             [
              0.7777777777777778,
              "#fb9f3a"
             ],
             [
              0.8888888888888888,
              "#fdca26"
             ],
             [
              1,
              "#f0f921"
             ]
            ],
            "type": "histogram2dcontour"
           }
          ],
          "mesh3d": [
           {
            "colorbar": {
             "outlinewidth": 0,
             "ticks": ""
            },
            "type": "mesh3d"
           }
          ],
          "parcoords": [
           {
            "line": {
             "colorbar": {
              "outlinewidth": 0,
              "ticks": ""
             }
            },
            "type": "parcoords"
           }
          ],
          "pie": [
           {
            "automargin": true,
            "type": "pie"
           }
          ],
          "scatter": [
           {
            "fillpattern": {
             "fillmode": "overlay",
             "size": 10,
             "solidity": 0.2
            },
            "type": "scatter"
           }
          ],
          "scatter3d": [
           {
            "line": {
             "colorbar": {
              "outlinewidth": 0,
              "ticks": ""
             }
            },
            "marker": {
             "colorbar": {
              "outlinewidth": 0,
              "ticks": ""
             }
            },
            "type": "scatter3d"
           }
          ],
          "scattercarpet": [
           {
            "marker": {
             "colorbar": {
              "outlinewidth": 0,
              "ticks": ""
             }
            },
            "type": "scattercarpet"
           }
          ],
          "scattergeo": [
           {
            "marker": {
             "colorbar": {
              "outlinewidth": 0,
              "ticks": ""
             }
            },
            "type": "scattergeo"
           }
          ],
          "scattergl": [
           {
            "marker": {
             "colorbar": {
              "outlinewidth": 0,
              "ticks": ""
             }
            },
            "type": "scattergl"
           }
          ],
          "scattermapbox": [
           {
            "marker": {
             "colorbar": {
              "outlinewidth": 0,
              "ticks": ""
             }
            },
            "type": "scattermapbox"
           }
          ],
          "scatterpolar": [
           {
            "marker": {
             "colorbar": {
              "outlinewidth": 0,
              "ticks": ""
             }
            },
            "type": "scatterpolar"
           }
          ],
          "scatterpolargl": [
           {
            "marker": {
             "colorbar": {
              "outlinewidth": 0,
              "ticks": ""
             }
            },
            "type": "scatterpolargl"
           }
          ],
          "scatterternary": [
           {
            "marker": {
             "colorbar": {
              "outlinewidth": 0,
              "ticks": ""
             }
            },
            "type": "scatterternary"
           }
          ],
          "surface": [
           {
            "colorbar": {
             "outlinewidth": 0,
             "ticks": ""
            },
            "colorscale": [
             [
              0,
              "#0d0887"
             ],
             [
              0.1111111111111111,
              "#46039f"
             ],
             [
              0.2222222222222222,
              "#7201a8"
             ],
             [
              0.3333333333333333,
              "#9c179e"
             ],
             [
              0.4444444444444444,
              "#bd3786"
             ],
             [
              0.5555555555555556,
              "#d8576b"
             ],
             [
              0.6666666666666666,
              "#ed7953"
             ],
             [
              0.7777777777777778,
              "#fb9f3a"
             ],
             [
              0.8888888888888888,
              "#fdca26"
             ],
             [
              1,
              "#f0f921"
             ]
            ],
            "type": "surface"
           }
          ],
          "table": [
           {
            "cells": {
             "fill": {
              "color": "#EBF0F8"
             },
             "line": {
              "color": "white"
             }
            },
            "header": {
             "fill": {
              "color": "#C8D4E3"
             },
             "line": {
              "color": "white"
             }
            },
            "type": "table"
           }
          ]
         },
         "layout": {
          "annotationdefaults": {
           "arrowcolor": "#2a3f5f",
           "arrowhead": 0,
           "arrowwidth": 1
          },
          "autotypenumbers": "strict",
          "coloraxis": {
           "colorbar": {
            "outlinewidth": 0,
            "ticks": ""
           }
          },
          "colorscale": {
           "diverging": [
            [
             0,
             "#8e0152"
            ],
            [
             0.1,
             "#c51b7d"
            ],
            [
             0.2,
             "#de77ae"
            ],
            [
             0.3,
             "#f1b6da"
            ],
            [
             0.4,
             "#fde0ef"
            ],
            [
             0.5,
             "#f7f7f7"
            ],
            [
             0.6,
             "#e6f5d0"
            ],
            [
             0.7,
             "#b8e186"
            ],
            [
             0.8,
             "#7fbc41"
            ],
            [
             0.9,
             "#4d9221"
            ],
            [
             1,
             "#276419"
            ]
           ],
           "sequential": [
            [
             0,
             "#0d0887"
            ],
            [
             0.1111111111111111,
             "#46039f"
            ],
            [
             0.2222222222222222,
             "#7201a8"
            ],
            [
             0.3333333333333333,
             "#9c179e"
            ],
            [
             0.4444444444444444,
             "#bd3786"
            ],
            [
             0.5555555555555556,
             "#d8576b"
            ],
            [
             0.6666666666666666,
             "#ed7953"
            ],
            [
             0.7777777777777778,
             "#fb9f3a"
            ],
            [
             0.8888888888888888,
             "#fdca26"
            ],
            [
             1,
             "#f0f921"
            ]
           ],
           "sequentialminus": [
            [
             0,
             "#0d0887"
            ],
            [
             0.1111111111111111,
             "#46039f"
            ],
            [
             0.2222222222222222,
             "#7201a8"
            ],
            [
             0.3333333333333333,
             "#9c179e"
            ],
            [
             0.4444444444444444,
             "#bd3786"
            ],
            [
             0.5555555555555556,
             "#d8576b"
            ],
            [
             0.6666666666666666,
             "#ed7953"
            ],
            [
             0.7777777777777778,
             "#fb9f3a"
            ],
            [
             0.8888888888888888,
             "#fdca26"
            ],
            [
             1,
             "#f0f921"
            ]
           ]
          },
          "colorway": [
           "#636efa",
           "#EF553B",
           "#00cc96",
           "#ab63fa",
           "#FFA15A",
           "#19d3f3",
           "#FF6692",
           "#B6E880",
           "#FF97FF",
           "#FECB52"
          ],
          "font": {
           "color": "#2a3f5f"
          },
          "geo": {
           "bgcolor": "white",
           "lakecolor": "white",
           "landcolor": "#E5ECF6",
           "showlakes": true,
           "showland": true,
           "subunitcolor": "white"
          },
          "hoverlabel": {
           "align": "left"
          },
          "hovermode": "closest",
          "mapbox": {
           "style": "light"
          },
          "paper_bgcolor": "white",
          "plot_bgcolor": "#E5ECF6",
          "polar": {
           "angularaxis": {
            "gridcolor": "white",
            "linecolor": "white",
            "ticks": ""
           },
           "bgcolor": "#E5ECF6",
           "radialaxis": {
            "gridcolor": "white",
            "linecolor": "white",
            "ticks": ""
           }
          },
          "scene": {
           "xaxis": {
            "backgroundcolor": "#E5ECF6",
            "gridcolor": "white",
            "gridwidth": 2,
            "linecolor": "white",
            "showbackground": true,
            "ticks": "",
            "zerolinecolor": "white"
           },
           "yaxis": {
            "backgroundcolor": "#E5ECF6",
            "gridcolor": "white",
            "gridwidth": 2,
            "linecolor": "white",
            "showbackground": true,
            "ticks": "",
            "zerolinecolor": "white"
           },
           "zaxis": {
            "backgroundcolor": "#E5ECF6",
            "gridcolor": "white",
            "gridwidth": 2,
            "linecolor": "white",
            "showbackground": true,
            "ticks": "",
            "zerolinecolor": "white"
           }
          },
          "shapedefaults": {
           "line": {
            "color": "#2a3f5f"
           }
          },
          "ternary": {
           "aaxis": {
            "gridcolor": "white",
            "linecolor": "white",
            "ticks": ""
           },
           "baxis": {
            "gridcolor": "white",
            "linecolor": "white",
            "ticks": ""
           },
           "bgcolor": "#E5ECF6",
           "caxis": {
            "gridcolor": "white",
            "linecolor": "white",
            "ticks": ""
           }
          },
          "title": {
           "x": 0.05
          },
          "xaxis": {
           "automargin": true,
           "gridcolor": "white",
           "linecolor": "white",
           "ticks": "",
           "title": {
            "standoff": 15
           },
           "zerolinecolor": "white",
           "zerolinewidth": 2
          },
          "yaxis": {
           "automargin": true,
           "gridcolor": "white",
           "linecolor": "white",
           "ticks": "",
           "title": {
            "standoff": 15
           },
           "zerolinecolor": "white",
           "zerolinewidth": 2
          }
         }
        },
        "title": {
         "text": "Ranking by Year: Indiana Fever"
        },
        "xaxis": {
         "anchor": "y",
         "domain": [
          0,
          1
         ],
         "title": {
          "text": "Year"
         }
        },
        "yaxis": {
         "anchor": "x",
         "domain": [
          0,
          1
         ],
         "title": {
          "text": "Ranking"
         }
        }
       }
      }
     },
     "metadata": {},
     "output_type": "display_data"
    }
   ],
   "source": [
    "team = 'Indiana Fever'\n",
    "rankings_df_by_team = team_rankings_df[team_rankings_df['Team'] == team]\n",
    "\n",
    "all_draft_picks = px.line(rankings_df_by_team, x='Year', y='Ranking', markers=True, title=f'Ranking by Year: {team}', hover_data=['Year', 'Ranking', 'Total Draft Picks'])\n",
    "all_draft_picks.show()"
   ]
  },
  {
   "cell_type": "code",
   "execution_count": 27,
   "metadata": {},
   "outputs": [
    {
     "data": {
      "application/vnd.plotly.v1+json": {
       "config": {
        "plotlyServerURL": "https://plot.ly"
       },
       "data": [
        {
         "customdata": [
          [
           2
          ],
          [
           2
          ],
          [
           2
          ],
          [
           3
          ],
          [
           3
          ],
          [
           1
          ],
          [
           3
          ],
          [
           4
          ],
          [
           3
          ],
          [
           3
          ],
          [
           3
          ],
          [
           6
          ],
          [
           7
          ],
          [
           5
          ],
          [
           3
          ]
         ],
         "hovertemplate": "Year=%{x}<br>Ranking=%{y}<br>Total First Round Draft Picks=%{marker.size}<br>Total Draft Picks=%{customdata[0]}<extra></extra>",
         "legendgroup": "",
         "marker": {
          "color": "#636efa",
          "size": [
           1,
           1,
           1,
           1,
           2,
           0,
           1,
           0,
           2,
           1,
           1,
           1,
           4,
           2,
           1
          ],
          "sizemode": "area",
          "sizeref": 0.01,
          "symbol": "circle"
         },
         "mode": "markers",
         "name": "",
         "orientation": "v",
         "showlegend": false,
         "type": "scatter",
         "x": [
          2010,
          2011,
          2012,
          2013,
          2014,
          2015,
          2016,
          2017,
          2018,
          2019,
          2020,
          2021,
          2022,
          2023,
          2024
         ],
         "xaxis": "x",
         "y": [
          3,
          1,
          2,
          4,
          2,
          3,
          5,
          11,
          12,
          9,
          11,
          12,
          12,
          10,
          6
         ],
         "yaxis": "y"
        },
        {
         "hovertemplate": "<b>LOWESS trendline</b><br><br>Year=%{x}<br>Ranking=%{y} <b>(trend)</b><extra></extra>",
         "legendgroup": "",
         "marker": {
          "color": "#636efa",
          "symbol": "circle"
         },
         "mode": "lines",
         "name": "",
         "showlegend": false,
         "type": "scatter",
         "x": [
          2010,
          2011,
          2012,
          2013,
          2014,
          2015,
          2016,
          2017,
          2018,
          2019,
          2020,
          2021,
          2022,
          2023,
          2024
         ],
         "xaxis": "x",
         "y": [
          3,
          1,
          2,
          4,
          2,
          3,
          5,
          11,
          12,
          9,
          11,
          12,
          12,
          10,
          6
         ],
         "yaxis": "y"
        }
       ],
       "layout": {
        "legend": {
         "itemsizing": "constant",
         "tracegroupgap": 0
        },
        "template": {
         "data": {
          "bar": [
           {
            "error_x": {
             "color": "#2a3f5f"
            },
            "error_y": {
             "color": "#2a3f5f"
            },
            "marker": {
             "line": {
              "color": "#E5ECF6",
              "width": 0.5
             },
             "pattern": {
              "fillmode": "overlay",
              "size": 10,
              "solidity": 0.2
             }
            },
            "type": "bar"
           }
          ],
          "barpolar": [
           {
            "marker": {
             "line": {
              "color": "#E5ECF6",
              "width": 0.5
             },
             "pattern": {
              "fillmode": "overlay",
              "size": 10,
              "solidity": 0.2
             }
            },
            "type": "barpolar"
           }
          ],
          "carpet": [
           {
            "aaxis": {
             "endlinecolor": "#2a3f5f",
             "gridcolor": "white",
             "linecolor": "white",
             "minorgridcolor": "white",
             "startlinecolor": "#2a3f5f"
            },
            "baxis": {
             "endlinecolor": "#2a3f5f",
             "gridcolor": "white",
             "linecolor": "white",
             "minorgridcolor": "white",
             "startlinecolor": "#2a3f5f"
            },
            "type": "carpet"
           }
          ],
          "choropleth": [
           {
            "colorbar": {
             "outlinewidth": 0,
             "ticks": ""
            },
            "type": "choropleth"
           }
          ],
          "contour": [
           {
            "colorbar": {
             "outlinewidth": 0,
             "ticks": ""
            },
            "colorscale": [
             [
              0,
              "#0d0887"
             ],
             [
              0.1111111111111111,
              "#46039f"
             ],
             [
              0.2222222222222222,
              "#7201a8"
             ],
             [
              0.3333333333333333,
              "#9c179e"
             ],
             [
              0.4444444444444444,
              "#bd3786"
             ],
             [
              0.5555555555555556,
              "#d8576b"
             ],
             [
              0.6666666666666666,
              "#ed7953"
             ],
             [
              0.7777777777777778,
              "#fb9f3a"
             ],
             [
              0.8888888888888888,
              "#fdca26"
             ],
             [
              1,
              "#f0f921"
             ]
            ],
            "type": "contour"
           }
          ],
          "contourcarpet": [
           {
            "colorbar": {
             "outlinewidth": 0,
             "ticks": ""
            },
            "type": "contourcarpet"
           }
          ],
          "heatmap": [
           {
            "colorbar": {
             "outlinewidth": 0,
             "ticks": ""
            },
            "colorscale": [
             [
              0,
              "#0d0887"
             ],
             [
              0.1111111111111111,
              "#46039f"
             ],
             [
              0.2222222222222222,
              "#7201a8"
             ],
             [
              0.3333333333333333,
              "#9c179e"
             ],
             [
              0.4444444444444444,
              "#bd3786"
             ],
             [
              0.5555555555555556,
              "#d8576b"
             ],
             [
              0.6666666666666666,
              "#ed7953"
             ],
             [
              0.7777777777777778,
              "#fb9f3a"
             ],
             [
              0.8888888888888888,
              "#fdca26"
             ],
             [
              1,
              "#f0f921"
             ]
            ],
            "type": "heatmap"
           }
          ],
          "heatmapgl": [
           {
            "colorbar": {
             "outlinewidth": 0,
             "ticks": ""
            },
            "colorscale": [
             [
              0,
              "#0d0887"
             ],
             [
              0.1111111111111111,
              "#46039f"
             ],
             [
              0.2222222222222222,
              "#7201a8"
             ],
             [
              0.3333333333333333,
              "#9c179e"
             ],
             [
              0.4444444444444444,
              "#bd3786"
             ],
             [
              0.5555555555555556,
              "#d8576b"
             ],
             [
              0.6666666666666666,
              "#ed7953"
             ],
             [
              0.7777777777777778,
              "#fb9f3a"
             ],
             [
              0.8888888888888888,
              "#fdca26"
             ],
             [
              1,
              "#f0f921"
             ]
            ],
            "type": "heatmapgl"
           }
          ],
          "histogram": [
           {
            "marker": {
             "pattern": {
              "fillmode": "overlay",
              "size": 10,
              "solidity": 0.2
             }
            },
            "type": "histogram"
           }
          ],
          "histogram2d": [
           {
            "colorbar": {
             "outlinewidth": 0,
             "ticks": ""
            },
            "colorscale": [
             [
              0,
              "#0d0887"
             ],
             [
              0.1111111111111111,
              "#46039f"
             ],
             [
              0.2222222222222222,
              "#7201a8"
             ],
             [
              0.3333333333333333,
              "#9c179e"
             ],
             [
              0.4444444444444444,
              "#bd3786"
             ],
             [
              0.5555555555555556,
              "#d8576b"
             ],
             [
              0.6666666666666666,
              "#ed7953"
             ],
             [
              0.7777777777777778,
              "#fb9f3a"
             ],
             [
              0.8888888888888888,
              "#fdca26"
             ],
             [
              1,
              "#f0f921"
             ]
            ],
            "type": "histogram2d"
           }
          ],
          "histogram2dcontour": [
           {
            "colorbar": {
             "outlinewidth": 0,
             "ticks": ""
            },
            "colorscale": [
             [
              0,
              "#0d0887"
             ],
             [
              0.1111111111111111,
              "#46039f"
             ],
             [
              0.2222222222222222,
              "#7201a8"
             ],
             [
              0.3333333333333333,
              "#9c179e"
             ],
             [
              0.4444444444444444,
              "#bd3786"
             ],
             [
              0.5555555555555556,
              "#d8576b"
             ],
             [
              0.6666666666666666,
              "#ed7953"
             ],
             [
              0.7777777777777778,
              "#fb9f3a"
             ],
             [
              0.8888888888888888,
              "#fdca26"
             ],
             [
              1,
              "#f0f921"
             ]
            ],
            "type": "histogram2dcontour"
           }
          ],
          "mesh3d": [
           {
            "colorbar": {
             "outlinewidth": 0,
             "ticks": ""
            },
            "type": "mesh3d"
           }
          ],
          "parcoords": [
           {
            "line": {
             "colorbar": {
              "outlinewidth": 0,
              "ticks": ""
             }
            },
            "type": "parcoords"
           }
          ],
          "pie": [
           {
            "automargin": true,
            "type": "pie"
           }
          ],
          "scatter": [
           {
            "fillpattern": {
             "fillmode": "overlay",
             "size": 10,
             "solidity": 0.2
            },
            "type": "scatter"
           }
          ],
          "scatter3d": [
           {
            "line": {
             "colorbar": {
              "outlinewidth": 0,
              "ticks": ""
             }
            },
            "marker": {
             "colorbar": {
              "outlinewidth": 0,
              "ticks": ""
             }
            },
            "type": "scatter3d"
           }
          ],
          "scattercarpet": [
           {
            "marker": {
             "colorbar": {
              "outlinewidth": 0,
              "ticks": ""
             }
            },
            "type": "scattercarpet"
           }
          ],
          "scattergeo": [
           {
            "marker": {
             "colorbar": {
              "outlinewidth": 0,
              "ticks": ""
             }
            },
            "type": "scattergeo"
           }
          ],
          "scattergl": [
           {
            "marker": {
             "colorbar": {
              "outlinewidth": 0,
              "ticks": ""
             }
            },
            "type": "scattergl"
           }
          ],
          "scattermapbox": [
           {
            "marker": {
             "colorbar": {
              "outlinewidth": 0,
              "ticks": ""
             }
            },
            "type": "scattermapbox"
           }
          ],
          "scatterpolar": [
           {
            "marker": {
             "colorbar": {
              "outlinewidth": 0,
              "ticks": ""
             }
            },
            "type": "scatterpolar"
           }
          ],
          "scatterpolargl": [
           {
            "marker": {
             "colorbar": {
              "outlinewidth": 0,
              "ticks": ""
             }
            },
            "type": "scatterpolargl"
           }
          ],
          "scatterternary": [
           {
            "marker": {
             "colorbar": {
              "outlinewidth": 0,
              "ticks": ""
             }
            },
            "type": "scatterternary"
           }
          ],
          "surface": [
           {
            "colorbar": {
             "outlinewidth": 0,
             "ticks": ""
            },
            "colorscale": [
             [
              0,
              "#0d0887"
             ],
             [
              0.1111111111111111,
              "#46039f"
             ],
             [
              0.2222222222222222,
              "#7201a8"
             ],
             [
              0.3333333333333333,
              "#9c179e"
             ],
             [
              0.4444444444444444,
              "#bd3786"
             ],
             [
              0.5555555555555556,
              "#d8576b"
             ],
             [
              0.6666666666666666,
              "#ed7953"
             ],
             [
              0.7777777777777778,
              "#fb9f3a"
             ],
             [
              0.8888888888888888,
              "#fdca26"
             ],
             [
              1,
              "#f0f921"
             ]
            ],
            "type": "surface"
           }
          ],
          "table": [
           {
            "cells": {
             "fill": {
              "color": "#EBF0F8"
             },
             "line": {
              "color": "white"
             }
            },
            "header": {
             "fill": {
              "color": "#C8D4E3"
             },
             "line": {
              "color": "white"
             }
            },
            "type": "table"
           }
          ]
         },
         "layout": {
          "annotationdefaults": {
           "arrowcolor": "#2a3f5f",
           "arrowhead": 0,
           "arrowwidth": 1
          },
          "autotypenumbers": "strict",
          "coloraxis": {
           "colorbar": {
            "outlinewidth": 0,
            "ticks": ""
           }
          },
          "colorscale": {
           "diverging": [
            [
             0,
             "#8e0152"
            ],
            [
             0.1,
             "#c51b7d"
            ],
            [
             0.2,
             "#de77ae"
            ],
            [
             0.3,
             "#f1b6da"
            ],
            [
             0.4,
             "#fde0ef"
            ],
            [
             0.5,
             "#f7f7f7"
            ],
            [
             0.6,
             "#e6f5d0"
            ],
            [
             0.7,
             "#b8e186"
            ],
            [
             0.8,
             "#7fbc41"
            ],
            [
             0.9,
             "#4d9221"
            ],
            [
             1,
             "#276419"
            ]
           ],
           "sequential": [
            [
             0,
             "#0d0887"
            ],
            [
             0.1111111111111111,
             "#46039f"
            ],
            [
             0.2222222222222222,
             "#7201a8"
            ],
            [
             0.3333333333333333,
             "#9c179e"
            ],
            [
             0.4444444444444444,
             "#bd3786"
            ],
            [
             0.5555555555555556,
             "#d8576b"
            ],
            [
             0.6666666666666666,
             "#ed7953"
            ],
            [
             0.7777777777777778,
             "#fb9f3a"
            ],
            [
             0.8888888888888888,
             "#fdca26"
            ],
            [
             1,
             "#f0f921"
            ]
           ],
           "sequentialminus": [
            [
             0,
             "#0d0887"
            ],
            [
             0.1111111111111111,
             "#46039f"
            ],
            [
             0.2222222222222222,
             "#7201a8"
            ],
            [
             0.3333333333333333,
             "#9c179e"
            ],
            [
             0.4444444444444444,
             "#bd3786"
            ],
            [
             0.5555555555555556,
             "#d8576b"
            ],
            [
             0.6666666666666666,
             "#ed7953"
            ],
            [
             0.7777777777777778,
             "#fb9f3a"
            ],
            [
             0.8888888888888888,
             "#fdca26"
            ],
            [
             1,
             "#f0f921"
            ]
           ]
          },
          "colorway": [
           "#636efa",
           "#EF553B",
           "#00cc96",
           "#ab63fa",
           "#FFA15A",
           "#19d3f3",
           "#FF6692",
           "#B6E880",
           "#FF97FF",
           "#FECB52"
          ],
          "font": {
           "color": "#2a3f5f"
          },
          "geo": {
           "bgcolor": "white",
           "lakecolor": "white",
           "landcolor": "#E5ECF6",
           "showlakes": true,
           "showland": true,
           "subunitcolor": "white"
          },
          "hoverlabel": {
           "align": "left"
          },
          "hovermode": "closest",
          "mapbox": {
           "style": "light"
          },
          "paper_bgcolor": "white",
          "plot_bgcolor": "#E5ECF6",
          "polar": {
           "angularaxis": {
            "gridcolor": "white",
            "linecolor": "white",
            "ticks": ""
           },
           "bgcolor": "#E5ECF6",
           "radialaxis": {
            "gridcolor": "white",
            "linecolor": "white",
            "ticks": ""
           }
          },
          "scene": {
           "xaxis": {
            "backgroundcolor": "#E5ECF6",
            "gridcolor": "white",
            "gridwidth": 2,
            "linecolor": "white",
            "showbackground": true,
            "ticks": "",
            "zerolinecolor": "white"
           },
           "yaxis": {
            "backgroundcolor": "#E5ECF6",
            "gridcolor": "white",
            "gridwidth": 2,
            "linecolor": "white",
            "showbackground": true,
            "ticks": "",
            "zerolinecolor": "white"
           },
           "zaxis": {
            "backgroundcolor": "#E5ECF6",
            "gridcolor": "white",
            "gridwidth": 2,
            "linecolor": "white",
            "showbackground": true,
            "ticks": "",
            "zerolinecolor": "white"
           }
          },
          "shapedefaults": {
           "line": {
            "color": "#2a3f5f"
           }
          },
          "ternary": {
           "aaxis": {
            "gridcolor": "white",
            "linecolor": "white",
            "ticks": ""
           },
           "baxis": {
            "gridcolor": "white",
            "linecolor": "white",
            "ticks": ""
           },
           "bgcolor": "#E5ECF6",
           "caxis": {
            "gridcolor": "white",
            "linecolor": "white",
            "ticks": ""
           }
          },
          "title": {
           "x": 0.05
          },
          "xaxis": {
           "automargin": true,
           "gridcolor": "white",
           "linecolor": "white",
           "ticks": "",
           "title": {
            "standoff": 15
           },
           "zerolinecolor": "white",
           "zerolinewidth": 2
          },
          "yaxis": {
           "automargin": true,
           "gridcolor": "white",
           "linecolor": "white",
           "ticks": "",
           "title": {
            "standoff": 15
           },
           "zerolinecolor": "white",
           "zerolinewidth": 2
          }
         }
        },
        "title": {
         "text": "Ranking by Year, Size Encoding First Round Draft Picks: Indiana Fever"
        },
        "xaxis": {
         "anchor": "y",
         "domain": [
          0,
          1
         ],
         "title": {
          "text": "Year"
         }
        },
        "yaxis": {
         "anchor": "x",
         "domain": [
          0,
          1
         ],
         "title": {
          "text": "Ranking"
         }
        }
       }
      }
     },
     "metadata": {},
     "output_type": "display_data"
    }
   ],
   "source": [
    "team = 'Indiana Fever'\n",
    "rankings_df_by_team = team_rankings_df[team_rankings_df['Team'] == team]\n",
    "\n",
    "all_draft_picks = px.scatter(rankings_df_by_team, x='Year', y='Ranking', size='Total First Round Draft Picks', title=f'Ranking by Year, Size Encoding First Round Draft Picks: {team}', hover_data=['Year', 'Ranking', 'Total Draft Picks'], trendline=\"lowess\", trendline_options=dict(frac=0.1))\n",
    "all_draft_picks.show()"
   ]
  },
  {
   "cell_type": "code",
   "execution_count": 29,
   "metadata": {},
   "outputs": [],
   "source": [
    "with pd.ExcelWriter('data/draft_picks.xlsx') as writer:\n",
    "    team_rankings_df.to_excel(writer, sheet_name='Aggregated', index=False)\n",
    "    draft_df.to_excel(writer, sheet_name='By Player', index=False)\n"
   ]
  },
  {
   "cell_type": "code",
   "execution_count": null,
   "metadata": {},
   "outputs": [],
   "source": []
  }
 ],
 "metadata": {
  "kernelspec": {
   "display_name": "venv",
   "language": "python",
   "name": "python3"
  },
  "language_info": {
   "codemirror_mode": {
    "name": "ipython",
    "version": 3
   },
   "file_extension": ".py",
   "mimetype": "text/x-python",
   "name": "python",
   "nbconvert_exporter": "python",
   "pygments_lexer": "ipython3",
   "version": "3.12.6"
  }
 },
 "nbformat": 4,
 "nbformat_minor": 2
}
